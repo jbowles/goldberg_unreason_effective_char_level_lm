{
 "cells": [
  {
   "cell_type": "markdown",
   "metadata": {},
   "source": [
    "# The unreasonable effectiveness of Character-level Language Models\n",
    "## (and why RNNs are still cool)\n",
    "\n",
    "**[Adapted version by josh bowles of origin: https://nbviewer.jupyter.org/gist/yoavg/d76121dfde2618422139]**\n",
    "\n",
    "###[Yoav Goldberg](http://www.cs.biu.ac.il/~yogo)\n",
    "\n",
    "RNNs, LSTMs and Deep Learning are all the rage, and a recent [blog post](http://karpathy.github.io/2015/05/21/rnn-effectiveness/) by Andrej Karpathy is doing a great job explaining what these models are and how to train them.\n",
    "It also provides some very impressive results of what they are capable of.  This is a great post, and if you are interested in natural language, machine learning or neural networks you should definitely read it. \n",
    "\n",
    "Go read it now, then come back here. \n",
    "\n",
    "You're back? good. Impressive stuff, huh? How could the network learn to immitate the input like that?\n",
    "Indeed. I was quite impressed as well.\n",
    "\n",
    "However, it feels to me that most readers of the post are impressed by the wrong reasons.\n",
    "This is because they are not familiar with **unsmoothed maximum-liklihood character level language models** and their unreasonable effectiveness at generating rather convincing natural language outputs.\n",
    "\n",
    "In what follows I will briefly describe these character-level maximum-likelihood langauge models, which are much less magical than RNNs and LSTMs, and show that they too can produce a rather convincing Shakespearean prose. I will also show about 30 lines of python code that take care of both training the model and generating the output. Compared to this baseline, the RNNs may seem somehwat less impressive. So why was I impressed? I will explain this too, below."
   ]
  },
  {
   "cell_type": "markdown",
   "metadata": {},
   "source": [
    "## Unsmoothed Maximum Likelihood Character Level Language Model \n",
    "\n",
    "The name is quite long, but the idea is very simple.  We want a model whose job is to guess the next character based on the previous $n$ letters. For example, having seen `ello`, the next characer is likely to be either a commma or space (if we assume is is the end of the word \"hello\"), or the letter `w` if we believe we are in the middle of the word \"mellow\". Humans are quite good at this, but of course seeing a larger history makes things easier (if we were to see 5 letters instead of 4, the choice between space and `w` would have been much easier).\n",
    "\n",
    "We will call $n$, the number of letters we need to guess based on, the _order_ of the language model.\n",
    "\n",
    "RNNs and LSTMs can potentially learn infinite-order language model (they guess the next character based on a \"state\" which supposedly encode all the previous history). We here will restrict ourselves to a fixed-order language model.\n",
    "\n",
    "So, we are seeing $n$ letters, and need to guess the $n+1$th one. We are also given a large-ish amount of text (say, all of Shakespear works) that we can use. How would we go about solving this task?\n",
    "\n",
    "Mathematiacally, we would like to learn a function $P(c | h)$. Here, $c$ is a character, $h$ is a $n$-letters history, and $P(c|h)$ stands for how likely is it to see $c$ after we've seen $h$.\n",
    "\n",
    "Perhaps the simplest approach would be to just count and divide (a.k.a **maximum likelihood estimates**). We will count the number of times each letter $c'$ appeared after $h$, and divide by the total numbers of letters appearing after $h$. The **unsmoothed** part means that if we did not see a given letter following $h$, we will just give it a probability of zero.\n",
    "\n",
    "And that's all there is to it.\n"
   ]
  },
  {
   "cell_type": "markdown",
   "metadata": {},
   "source": [
    "### Training Code\n",
    "Here is the code for training the model. `fname` is a file to read the characters from. `order` is the history size to consult. Note that we pad the data with leading `~` so that we also learn how to start.\n"
   ]
  },
  {
   "cell_type": "code",
   "execution_count": 1,
   "metadata": {},
   "outputs": [],
   "source": [
    "from collections import *"
   ]
  },
  {
   "cell_type": "code",
   "execution_count": 2,
   "metadata": {},
   "outputs": [],
   "source": [
    "sample_txt = \"\"\"\n",
    "First Citizen:\n",
    "Before we proceed any further, hear me speak.\n",
    "\n",
    "All:\n",
    "Speak, speak.\n",
    "\n",
    "First Citizen:\n",
    "You are all resolved rather to die than to famish?\n",
    "\n",
    "All:\n",
    "Resolved. resolved.\n",
    "\n",
    "First Citizen:\n",
    "First, you know Caius Marcius is chief enemy to the people.\n",
    "\n",
    "All:\n",
    "We know't, we know't.\n",
    "\n",
    "First Citizen:\n",
    "Let us kill him, and we'll have corn at our own price.\n",
    "Is't a verdict?\n",
    "\n",
    "All:\n",
    "No more talking on't; let it be done: away, away!\n",
    "\n",
    "Second Citizen:\n",
    "One word, good citizens.\n",
    "\n",
    "First Citizen:\n",
    "We are accounted poor citizens, the patricians good.\n",
    "What authority surfeits on would relieve us: if they\n",
    "would yield us but the superfluity, while it were\n",
    "wholesome, we might guess they relieved us humanely;\n",
    "but they think we are too dear: the leanness that\n",
    "afflicts us, the object of our misery, is as an\n",
    "inventory to particularise their abundance; our\n",
    "sufferance is a gain to them Let us revenge this with\n",
    "our pikes, ere we become rakes: for the gods know I\n",
    "speak this in hunger for bread, not in thirst for revenge.\n",
    "\"\"\""
   ]
  },
  {
   "cell_type": "code",
   "execution_count": 3,
   "metadata": {},
   "outputs": [
    {
     "name": "stdout",
     "output_type": "stream",
     "text": [
      "text sample length: 1004\n",
      "0: history: \"~~~~\"  char: \"\n",
      "\"\n",
      "1: history: \"~~~\n",
      "\"  char: \"F\"\n",
      "2: history: \"~~\n",
      "F\"  char: \"i\"\n",
      "3: history: \"~\n",
      "Fi\"  char: \"r\"\n",
      "tlm entry for '~~~~': Counter({'\\n': 1})\n",
      "test language model(tlm):\n",
      " defaultdict(<class 'collections.Counter'>, {'~~~~': Counter({'\\n': 1}), '~~~\\n': Counter({'F': 1})})\n"
     ]
    }
   ],
   "source": [
    "#test counter, test order, test pad\n",
    "tlm = defaultdict(Counter)\n",
    "torder = 4\n",
    "tp = \"~\" * torder #'~~~'\n",
    "sample = tp + sample_txt #append pad to front of data\n",
    "print(\"text sample length:\", len(sample))\n",
    "print(f'0: history: \"{sample[0:0+torder]}\"  char: \"{sample[0+torder]}\"')\n",
    "print(f'1: history: \"{sample[1:1+torder]}\"  char: \"{sample[1+torder]}\"')\n",
    "print(f'2: history: \"{sample[2:2+torder]}\"  char: \"{sample[2+torder]}\"')\n",
    "print(f'3: history: \"{sample[3:3+torder]}\"  char: \"{sample[3+torder]}\"')\n",
    "history,char = sample[0:0+torder], sample[0+torder]\n",
    "tlm[history][char]+=1\n",
    "history,char = sample[1:1+torder], sample[1+torder]\n",
    "tlm[history][char]+=1\n",
    "print(\"tlm entry for '~~~~':\", tlm[tp])\n",
    "print(\"test language model(tlm):\\n\",tlm)\n",
    "#print(\"elements for 0 char in tlm\", tlm[char].elements())\n",
    "#print(\"\", tlm[char].most_common())"
   ]
  },
  {
   "cell_type": "code",
   "execution_count": 4,
   "metadata": {},
   "outputs": [],
   "source": [
    "def data_make(data,order=4):\n",
    "    lm = defaultdict(Counter)\n",
    "    pad = \"~\" * order #'~~~~'\n",
    "    data = pad + data #append pad to front of data\n",
    "    for i in range(len(data)-order):\n",
    "        history, char = data[i:i+order], data[i+order]\n",
    "        lm[history][char]+=1\n",
    "    return lm"
   ]
  },
  {
   "cell_type": "code",
   "execution_count": 5,
   "metadata": {},
   "outputs": [],
   "source": [
    "result = data_make(sample)"
   ]
  },
  {
   "cell_type": "code",
   "execution_count": 6,
   "metadata": {},
   "outputs": [
    {
     "name": "stdout",
     "output_type": "stream",
     "text": [
      "defaultdict(<class 'collections.Counter'>, {'~~~~': Counter({'~': 4, '\\n': 1}), '~~~\\n': Counter({'F': 1}), '~~\\nF': Counter({'i': 1}), '~\\nFi': Counter({'r': 1}), '\\nFir': Counter({'s': 6}), 'Firs': Counter({'t': 6}), 'irst': Counter({' ': 6, ',': 1}), 'rst ': Counter({'C': 5, 'f': 1}), 'st C': Counter({'i': 5}), 't Ci': Counter({'t': 5}), ' Cit': Counter({'i': 6}), 'Citi': Counter({'z': 6}), 'itiz': Counter({'e': 8}), 'tize': Counter({'n': 8}), 'izen': Counter({':': 6, 's': 2}), 'zen:': Counter({'\\n': 6}), 'en:\\n': Counter({'B': 1, 'Y': 1, 'F': 1, 'L': 1, 'O': 1, 'W': 1}), 'n:\\nB': Counter({'e': 1}), ':\\nBe': Counter({'f': 1}), '\\nBef': Counter({'o': 1}), 'Befo': Counter({'r': 1}), 'efor': Counter({'e': 1}), 'fore': Counter({' ': 1}), 'ore ': Counter({'w': 1, 't': 1}), 're w': Counter({'e': 2}), 'e we': Counter({' ': 2}), ' we ': Counter({'p': 1, 'k': 1, 'm': 1, 'a': 1, 'b': 1}), 'we p': Counter({'r': 1}), 'e pr': Counter({'o': 1}), ' pro': Counter({'c': 1}), 'proc': Counter({'e': 1}), 'roce': Counter({'e': 1}), 'ocee': Counter({'d': 1}), 'ceed': Counter({' ': 1}), 'eed ': Counter({'a': 1}), 'ed a': Counter({'n': 1}), 'd an': Counter({'y': 1}), ' any': Counter({' ': 1}), 'any ': Counter({'f': 1}), 'ny f': Counter({'u': 1}), 'y fu': Counter({'r': 1}), ' fur': Counter({'t': 1}), 'furt': Counter({'h': 1}), 'urth': Counter({'e': 1}), 'rthe': Counter({'r': 1}), 'ther': Counter({',': 1, ' ': 1}), 'her,': Counter({' ': 1}), 'er, ': Counter({'h': 1}), 'r, h': Counter({'e': 1}), ', he': Counter({'a': 1}), ' hea': Counter({'r': 1}), 'hear': Counter({' ': 1}), 'ear ': Counter({'m': 1}), 'ar m': Counter({'e': 1}), 'r me': Counter({' ': 1}), ' me ': Counter({'s': 1}), 'me s': Counter({'p': 1}), 'e sp': Counter({'e': 1}), ' spe': Counter({'a': 2}), 'spea': Counter({'k': 3}), 'peak': Counter({'.': 2, ',': 1, ' ': 1}), 'eak.': Counter({'\\n': 2}), 'ak.\\n': Counter({'\\n': 2}), 'k.\\n\\n': Counter({'A': 1, 'F': 1}), '.\\n\\nA': Counter({'l': 2}), '\\n\\nAl': Counter({'l': 4}), '\\nAll': Counter({':': 4}), 'All:': Counter({'\\n': 4}), 'll:\\n': Counter({'S': 1, 'R': 1, 'W': 1, 'N': 1}), 'l:\\nS': Counter({'p': 1}), ':\\nSp': Counter({'e': 1}), '\\nSpe': Counter({'a': 1}), 'Spea': Counter({'k': 1}), 'eak,': Counter({' ': 1}), 'ak, ': Counter({'s': 1}), 'k, s': Counter({'p': 1}), ', sp': Counter({'e': 1}), '.\\n\\nF': Counter({'i': 4}), '\\n\\nFi': Counter({'r': 4}), 'n:\\nY': Counter({'o': 1}), ':\\nYo': Counter({'u': 1}), '\\nYou': Counter({' ': 1}), 'You ': Counter({'a': 1}), 'ou a': Counter({'r': 1}), 'u ar': Counter({'e': 1}), ' are': Counter({' ': 3}), 'are ': Counter({'a': 2, 't': 1}), 're a': Counter({'l': 1, 'c': 1}), 'e al': Counter({'l': 1}), ' all': Counter({' ': 1}), 'all ': Counter({'r': 1}), 'll r': Counter({'e': 1}), 'l re': Counter({'s': 1}), ' res': Counter({'o': 2}), 'reso': Counter({'l': 2}), 'esol': Counter({'v': 3}), 'solv': Counter({'e': 3}), 'olve': Counter({'d': 3}), 'lved': Counter({'.': 2, ' ': 1}), 'ved ': Counter({'r': 1, 'u': 1}), 'ed r': Counter({'a': 1}), 'd ra': Counter({'t': 1}), ' rat': Counter({'h': 1}), 'rath': Counter({'e': 1}), 'athe': Counter({'r': 1}), 'her ': Counter({'t': 1}), 'er t': Counter({'o': 1}), 'r to': Counter({' ': 1}), ' to ': Counter({'t': 2, 'd': 1, 'f': 1, 'p': 1}), 'to d': Counter({'i': 1}), 'o di': Counter({'e': 1}), ' die': Counter({' ': 1}), 'die ': Counter({'t': 1}), 'ie t': Counter({'h': 1}), 'e th': Counter({'a': 1, 'e': 1, 'i': 1}), ' tha': Counter({'n': 1, 't': 1}), 'than': Counter({' ': 1}), 'han ': Counter({'t': 1}), 'an t': Counter({'o': 1}), 'n to': Counter({' ': 2}), 'to f': Counter({'a': 1}), 'o fa': Counter({'m': 1}), ' fam': Counter({'i': 1}), 'fami': Counter({'s': 1}), 'amis': Counter({'h': 1}), 'mish': Counter({'?': 1}), 'ish?': Counter({'\\n': 1}), 'sh?\\n': Counter({'\\n': 1}), 'h?\\n\\n': Counter({'A': 1}), '?\\n\\nA': Counter({'l': 2}), 'l:\\nR': Counter({'e': 1}), ':\\nRe': Counter({'s': 1}), '\\nRes': Counter({'o': 1}), 'Reso': Counter({'l': 1}), 'ved.': Counter({' ': 1, '\\n': 1}), 'ed. ': Counter({'r': 1}), 'd. r': Counter({'e': 1}), '. re': Counter({'s': 1}), 'ed.\\n': Counter({'\\n': 1}), 'd.\\n\\n': Counter({'F': 1}), 'n:\\nF': Counter({'i': 1}), ':\\nFi': Counter({'r': 1}), 'rst,': Counter({' ': 1}), 'st, ': Counter({'y': 1}), 't, y': Counter({'o': 1}), ', yo': Counter({'u': 1}), ' you': Counter({' ': 1}), 'you ': Counter({'k': 1}), 'ou k': Counter({'n': 1}), 'u kn': Counter({'o': 1}), ' kno': Counter({'w': 4}), 'know': Counter({' ': 2, \"'\": 2}), 'now ': Counter({'C': 1, 'I': 1}), 'ow C': Counter({'a': 1}), 'w Ca': Counter({'i': 1}), ' Cai': Counter({'u': 1}), 'Caiu': Counter({'s': 1}), 'aius': Counter({' ': 1}), 'ius ': Counter({'M': 1, 'i': 1}), 'us M': Counter({'a': 1}), 's Ma': Counter({'r': 1}), ' Mar': Counter({'c': 1}), 'Marc': Counter({'i': 1}), 'arci': Counter({'u': 1}), 'rciu': Counter({'s': 1}), 'cius': Counter({' ': 1}), 'us i': Counter({'s': 1}), 's is': Counter({' ': 1}), ' is ': Counter({'a': 2, 'c': 1}), 'is c': Counter({'h': 1}), 's ch': Counter({'i': 1}), ' chi': Counter({'e': 1}), 'chie': Counter({'f': 1}), 'hief': Counter({' ': 1}), 'ief ': Counter({'e': 1}), 'ef e': Counter({'n': 1}), 'f en': Counter({'e': 1}), ' ene': Counter({'m': 1}), 'enem': Counter({'y': 1}), 'nemy': Counter({' ': 1}), 'emy ': Counter({'t': 1}), 'my t': Counter({'o': 1}), 'y to': Counter({' ': 2}), 'to t': Counter({'h': 2}), 'o th': Counter({'e': 2}), ' the': Counter({' ': 6, 'y': 3, 'i': 1, 'm': 1}), 'the ': Counter({'p': 2, 's': 1, 'l': 1, 'o': 1, 'g': 1}), 'he p': Counter({'e': 1, 'a': 1}), 'e pe': Counter({'o': 1}), ' peo': Counter({'p': 1}), 'peop': Counter({'l': 1}), 'eopl': Counter({'e': 1}), 'ople': Counter({'.': 1}), 'ple.': Counter({'\\n': 1}), 'le.\\n': Counter({'\\n': 1}), 'e.\\n\\n': Counter({'A': 1}), 'l:\\nW': Counter({'e': 1}), ':\\nWe': Counter({' ': 2}), '\\nWe ': Counter({'k': 1, 'a': 1}), 'We k': Counter({'n': 1}), 'e kn': Counter({'o': 2}), \"now'\": Counter({'t': 2}), \"ow't\": Counter({',': 1, '.': 1}), \"w't,\": Counter({' ': 1}), \"'t, \": Counter({'w': 1}), 't, w': Counter({'e': 1}), ', we': Counter({' ': 2}), 'we k': Counter({'n': 1}), \"w't.\": Counter({'\\n': 1}), \"'t.\\n\": Counter({'\\n': 1}), 't.\\n\\n': Counter({'F': 1}), 'n:\\nL': Counter({'e': 1}), ':\\nLe': Counter({'t': 1}), '\\nLet': Counter({' ': 1}), 'Let ': Counter({'u': 2}), 'et u': Counter({'s': 2}), 't us': Counter({' ': 2}), ' us ': Counter({'k': 1, 'b': 1, 'h': 1, 'r': 1}), 'us k': Counter({'i': 1}), 's ki': Counter({'l': 1}), ' kil': Counter({'l': 1}), 'kill': Counter({' ': 1}), 'ill ': Counter({'h': 1}), 'll h': Counter({'i': 1, 'a': 1}), 'l hi': Counter({'m': 1}), ' him': Counter({',': 1}), 'him,': Counter({' ': 1}), 'im, ': Counter({'a': 1}), 'm, a': Counter({'n': 1}), ', an': Counter({'d': 1}), ' and': Counter({' ': 1}), 'and ': Counter({'w': 1}), 'nd w': Counter({'e': 1}), 'd we': Counter({\"'\": 1}), \" we'\": Counter({'l': 1}), \"we'l\": Counter({'l': 1}), \"e'll\": Counter({' ': 1}), \"'ll \": Counter({'h': 1}), 'l ha': Counter({'v': 1}), ' hav': Counter({'e': 1}), 'have': Counter({' ': 1}), 'ave ': Counter({'c': 1}), 've c': Counter({'o': 1}), 'e co': Counter({'r': 1}), ' cor': Counter({'n': 1}), 'corn': Counter({' ': 1}), 'orn ': Counter({'a': 1}), 'rn a': Counter({'t': 1}), 'n at': Counter({' ': 1}), ' at ': Counter({'o': 1}), 'at o': Counter({'u': 1}), 't ou': Counter({'r': 1}), ' our': Counter({' ': 2, '\\n': 1}), 'our ': Counter({'o': 1, 'm': 1, 'p': 1}), 'ur o': Counter({'w': 1}), 'r ow': Counter({'n': 1}), ' own': Counter({' ': 1}), 'own ': Counter({'p': 1}), 'wn p': Counter({'r': 1}), 'n pr': Counter({'i': 1}), ' pri': Counter({'c': 1}), 'pric': Counter({'e': 1}), 'rice': Counter({'.': 1}), 'ice.': Counter({'\\n': 1}), 'ce.\\n': Counter({'I': 1}), 'e.\\nI': Counter({'s': 1}), '.\\nIs': Counter({\"'\": 1}), \"\\nIs'\": Counter({'t': 1}), \"Is't\": Counter({' ': 1}), \"s't \": Counter({'a': 1}), \"'t a\": Counter({' ': 1}), 't a ': Counter({'v': 1}), ' a v': Counter({'e': 1}), 'a ve': Counter({'r': 1}), ' ver': Counter({'d': 1}), 'verd': Counter({'i': 1}), 'erdi': Counter({'c': 1}), 'rdic': Counter({'t': 1}), 'dict': Counter({'?': 1}), 'ict?': Counter({'\\n': 1}), 'ct?\\n': Counter({'\\n': 1}), 't?\\n\\n': Counter({'A': 1}), 'l:\\nN': Counter({'o': 1}), ':\\nNo': Counter({' ': 1}), '\\nNo ': Counter({'m': 1}), 'No m': Counter({'o': 1}), 'o mo': Counter({'r': 1}), ' mor': Counter({'e': 1}), 'more': Counter({' ': 1}), 're t': Counter({'a': 1, 'o': 1}), 'e ta': Counter({'l': 1}), ' tal': Counter({'k': 1}), 'talk': Counter({'i': 1}), 'alki': Counter({'n': 1}), 'lkin': Counter({'g': 1}), 'king': Counter({' ': 1}), 'ing ': Counter({'o': 1}), 'ng o': Counter({'n': 1}), 'g on': Counter({\"'\": 1}), \" on'\": Counter({'t': 1}), \"on't\": Counter({';': 1}), \"n't;\": Counter({' ': 1}), \"'t; \": Counter({'l': 1}), 't; l': Counter({'e': 1}), '; le': Counter({'t': 1}), ' let': Counter({' ': 1}), 'let ': Counter({'i': 1}), 'et i': Counter({'t': 1}), 't it': Counter({' ': 1}), ' it ': Counter({'b': 1, 'w': 1}), 'it b': Counter({'e': 1}), 't be': Counter({' ': 1}), ' be ': Counter({'d': 1}), 'be d': Counter({'o': 1}), 'e do': Counter({'n': 1}), ' don': Counter({'e': 1}), 'done': Counter({':': 1}), 'one:': Counter({' ': 1}), 'ne: ': Counter({'a': 1}), 'e: a': Counter({'w': 1}), ': aw': Counter({'a': 1}), ' awa': Counter({'y': 2}), 'away': Counter({',': 1, '!': 1}), 'way,': Counter({' ': 1}), 'ay, ': Counter({'a': 1}), 'y, a': Counter({'w': 1}), ', aw': Counter({'a': 1}), 'way!': Counter({'\\n': 1}), 'ay!\\n': Counter({'\\n': 1}), 'y!\\n\\n': Counter({'S': 1}), '!\\n\\nS': Counter({'e': 1}), '\\n\\nSe': Counter({'c': 1}), '\\nSec': Counter({'o': 1}), 'Seco': Counter({'n': 1}), 'econ': Counter({'d': 1}), 'cond': Counter({' ': 1}), 'ond ': Counter({'C': 1}), 'nd C': Counter({'i': 1}), 'd Ci': Counter({'t': 1}), 'n:\\nO': Counter({'n': 1}), ':\\nOn': Counter({'e': 1}), '\\nOne': Counter({' ': 1}), 'One ': Counter({'w': 1}), 'ne w': Counter({'o': 1}), 'e wo': Counter({'r': 1}), ' wor': Counter({'d': 1}), 'word': Counter({',': 1}), 'ord,': Counter({' ': 1}), 'rd, ': Counter({'g': 1}), 'd, g': Counter({'o': 1}), ', go': Counter({'o': 1}), ' goo': Counter({'d': 2}), 'good': Counter({' ': 1, '.': 1}), 'ood ': Counter({'c': 1}), 'od c': Counter({'i': 1}), 'd ci': Counter({'t': 1}), ' cit': Counter({'i': 2}), 'citi': Counter({'z': 2}), 'zens': Counter({'.': 1, ',': 1}), 'ens.': Counter({'\\n': 1}), 'ns.\\n': Counter({'\\n': 1}), 's.\\n\\n': Counter({'F': 1}), 'n:\\nW': Counter({'e': 1}), 'We a': Counter({'r': 1}), 'e ar': Counter({'e': 2}), 'e ac': Counter({'c': 1}), ' acc': Counter({'o': 1}), 'acco': Counter({'u': 1}), 'ccou': Counter({'n': 1}), 'coun': Counter({'t': 1}), 'ount': Counter({'e': 1}), 'unte': Counter({'d': 1}), 'nted': Counter({' ': 1}), 'ted ': Counter({'p': 1}), 'ed p': Counter({'o': 1}), 'd po': Counter({'o': 1}), ' poo': Counter({'r': 1}), 'poor': Counter({' ': 1}), 'oor ': Counter({'c': 1}), 'or c': Counter({'i': 1}), 'r ci': Counter({'t': 1}), 'ens,': Counter({' ': 1}), 'ns, ': Counter({'t': 1}), 's, t': Counter({'h': 2}), ', th': Counter({'e': 2}), 'e pa': Counter({'t': 1}), ' pat': Counter({'r': 1}), 'patr': Counter({'i': 1}), 'atri': Counter({'c': 1}), 'tric': Counter({'i': 1}), 'rici': Counter({'a': 1}), 'icia': Counter({'n': 1}), 'cian': Counter({'s': 1}), 'ians': Counter({' ': 1}), 'ans ': Counter({'g': 1}), 'ns g': Counter({'o': 1}), 's go': Counter({'o': 1}), 'ood.': Counter({'\\n': 1}), 'od.\\n': Counter({'W': 1}), 'd.\\nW': Counter({'h': 1}), '.\\nWh': Counter({'a': 1}), '\\nWha': Counter({'t': 1}), 'What': Counter({' ': 1}), 'hat ': Counter({'a': 1}), 'at a': Counter({'u': 1}), 't au': Counter({'t': 1}), ' aut': Counter({'h': 1}), 'auth': Counter({'o': 1}), 'utho': Counter({'r': 1}), 'thor': Counter({'i': 1}), 'hori': Counter({'t': 1}), 'orit': Counter({'y': 1}), 'rity': Counter({' ': 1}), 'ity ': Counter({'s': 1}), 'ty s': Counter({'u': 1}), 'y su': Counter({'r': 1}), ' sur': Counter({'f': 1}), 'surf': Counter({'e': 1}), 'urfe': Counter({'i': 1}), 'rfei': Counter({'t': 1}), 'feit': Counter({'s': 1}), 'eits': Counter({' ': 1}), 'its ': Counter({'o': 1}), 'ts o': Counter({'n': 1}), 's on': Counter({' ': 1}), ' on ': Counter({'w': 1}), 'on w': Counter({'o': 1}), 'n wo': Counter({'u': 1}), ' wou': Counter({'l': 1}), 'woul': Counter({'d': 2}), 'ould': Counter({' ': 2}), 'uld ': Counter({'r': 1, 'y': 1}), 'ld r': Counter({'e': 1}), 'd re': Counter({'l': 1}), ' rel': Counter({'i': 2}), 'reli': Counter({'e': 2}), 'elie': Counter({'v': 2}), 'liev': Counter({'e': 2}), 'ieve': Counter({' ': 1, 'd': 1}), 'eve ': Counter({'u': 1}), 've u': Counter({'s': 1}), 'e us': Counter({':': 1}), ' us:': Counter({' ': 1}), 'us: ': Counter({'i': 1}), 's: i': Counter({'f': 1}), ': if': Counter({' ': 1}), ' if ': Counter({'t': 1}), 'if t': Counter({'h': 1}), 'f th': Counter({'e': 1}), 'they': Counter({' ': 2, '\\n': 1}), 'hey\\n': Counter({'w': 1}), 'ey\\nw': Counter({'o': 1}), 'y\\nwo': Counter({'u': 1}), '\\nwou': Counter({'l': 1}), 'ld y': Counter({'i': 1}), 'd yi': Counter({'e': 1}), ' yie': Counter({'l': 1}), 'yiel': Counter({'d': 1}), 'ield': Counter({' ': 1}), 'eld ': Counter({'u': 1}), 'ld u': Counter({'s': 1}), 'd us': Counter({' ': 2}), 'us b': Counter({'u': 1}), 's bu': Counter({'t': 1}), ' but': Counter({' ': 1}), 'but ': Counter({'t': 2}), 'ut t': Counter({'h': 2}), 't th': Counter({'e': 2}), 'he s': Counter({'u': 1}), 'e su': Counter({'p': 1}), ' sup': Counter({'e': 1}), 'supe': Counter({'r': 1}), 'uper': Counter({'f': 1}), 'perf': Counter({'l': 1}), 'erfl': Counter({'u': 1}), 'rflu': Counter({'i': 1}), 'flui': Counter({'t': 1}), 'luit': Counter({'y': 1}), 'uity': Counter({',': 1}), 'ity,': Counter({' ': 1}), 'ty, ': Counter({'w': 1}), 'y, w': Counter({'h': 1}), ', wh': Counter({'i': 1}), ' whi': Counter({'l': 1}), 'whil': Counter({'e': 1}), 'hile': Counter({' ': 1}), 'ile ': Counter({'i': 1}), 'le i': Counter({'t': 1}), 'e it': Counter({' ': 1}), 'it w': Counter({'e': 1}), 't we': Counter({'r': 1}), ' wer': Counter({'e': 1}), 'were': Counter({'\\n': 1}), 'ere\\n': Counter({'w': 1}), 're\\nw': Counter({'h': 1}), 'e\\nwh': Counter({'o': 1}), '\\nwho': Counter({'l': 1}), 'whol': Counter({'e': 1}), 'hole': Counter({'s': 1}), 'oles': Counter({'o': 1}), 'leso': Counter({'m': 1}), 'esom': Counter({'e': 1}), 'some': Counter({',': 1}), 'ome,': Counter({' ': 1}), 'me, ': Counter({'w': 1}), 'e, w': Counter({'e': 1}), 'we m': Counter({'i': 1}), 'e mi': Counter({'g': 1}), ' mig': Counter({'h': 1}), 'migh': Counter({'t': 1}), 'ight': Counter({' ': 1}), 'ght ': Counter({'g': 1}), 'ht g': Counter({'u': 1}), 't gu': Counter({'e': 1}), ' gue': Counter({'s': 1}), 'gues': Counter({'s': 1}), 'uess': Counter({' ': 1}), 'ess ': Counter({'t': 2}), 'ss t': Counter({'h': 2}), 's th': Counter({'e': 1, 'a': 1}), 'hey ': Counter({'r': 1, 't': 1}), 'ey r': Counter({'e': 1}), 'y re': Counter({'l': 1}), 'eved': Counter({' ': 1}), 'ed u': Counter({'s': 1}), 'us h': Counter({'u': 1}), 's hu': Counter({'m': 1}), ' hum': Counter({'a': 1}), 'huma': Counter({'n': 1}), 'uman': Counter({'e': 1}), 'mane': Counter({'l': 1}), 'anel': Counter({'y': 1}), 'nely': Counter({';': 1}), 'ely;': Counter({'\\n': 1}), 'ly;\\n': Counter({'b': 1}), 'y;\\nb': Counter({'u': 1}), ';\\nbu': Counter({'t': 1}), '\\nbut': Counter({' ': 1}), 'ey t': Counter({'h': 1}), 'y th': Counter({'i': 1}), ' thi': Counter({'s': 2, 'n': 1, 'r': 1}), 'thin': Counter({'k': 1}), 'hink': Counter({' ': 1}), 'ink ': Counter({'w': 1}), 'nk w': Counter({'e': 1}), 'k we': Counter({' ': 1}), 'we a': Counter({'r': 1}), 'e to': Counter({'o': 1}), ' too': Counter({' ': 1}), 'too ': Counter({'d': 1}), 'oo d': Counter({'e': 1}), 'o de': Counter({'a': 1}), ' dea': Counter({'r': 1}), 'dear': Counter({':': 1}), 'ear:': Counter({' ': 1}), 'ar: ': Counter({'t': 1}), 'r: t': Counter({'h': 1}), ': th': Counter({'e': 1}), 'he l': Counter({'e': 1}), 'e le': Counter({'a': 1}), ' lea': Counter({'n': 1}), 'lean': Counter({'n': 1}), 'eann': Counter({'e': 1}), 'anne': Counter({'s': 1}), 'nnes': Counter({'s': 1}), 'ness': Counter({' ': 1}), 'that': Counter({'\\n': 1}), 'hat\\n': Counter({'a': 1}), 'at\\na': Counter({'f': 1}), 't\\naf': Counter({'f': 1}), '\\naff': Counter({'l': 1}), 'affl': Counter({'i': 1}), 'ffli': Counter({'c': 1}), 'flic': Counter({'t': 1}), 'lict': Counter({'s': 1}), 'icts': Counter({' ': 1}), 'cts ': Counter({'u': 1}), 'ts u': Counter({'s': 1}), 's us': Counter({',': 1}), ' us,': Counter({' ': 1}), 'us, ': Counter({'t': 1}), 'he o': Counter({'b': 1}), 'e ob': Counter({'j': 1}), ' obj': Counter({'e': 1}), 'obje': Counter({'c': 1}), 'bjec': Counter({'t': 1}), 'ject': Counter({' ': 1}), 'ect ': Counter({'o': 1}), 'ct o': Counter({'f': 1}), 't of': Counter({' ': 1}), ' of ': Counter({'o': 1}), 'of o': Counter({'u': 1}), 'f ou': Counter({'r': 1}), 'ur m': Counter({'i': 1}), 'r mi': Counter({'s': 1}), ' mis': Counter({'e': 1}), 'mise': Counter({'r': 1}), 'iser': Counter({'y': 1}), 'sery': Counter({',': 1}), 'ery,': Counter({' ': 1}), 'ry, ': Counter({'i': 1}), 'y, i': Counter({'s': 1}), ', is': Counter({' ': 1}), 'is a': Counter({'s': 1, ' ': 1}), 's as': Counter({' ': 1}), ' as ': Counter({'a': 1}), 'as a': Counter({'n': 1}), 's an': Counter({'\\n': 1}), ' an\\n': Counter({'i': 1}), 'an\\ni': Counter({'n': 1}), 'n\\nin': Counter({'v': 1}), '\\ninv': Counter({'e': 1}), 'inve': Counter({'n': 1}), 'nven': Counter({'t': 1}), 'vent': Counter({'o': 1}), 'ento': Counter({'r': 1}), 'ntor': Counter({'y': 1}), 'tory': Counter({' ': 1}), 'ory ': Counter({'t': 1}), 'ry t': Counter({'o': 1}), 'to p': Counter({'a': 1}), 'o pa': Counter({'r': 1}), ' par': Counter({'t': 1}), 'part': Counter({'i': 1}), 'arti': Counter({'c': 1}), 'rtic': Counter({'u': 1}), 'ticu': Counter({'l': 1}), 'icul': Counter({'a': 1}), 'cula': Counter({'r': 1}), 'ular': Counter({'i': 1}), 'lari': Counter({'s': 1}), 'aris': Counter({'e': 1}), 'rise': Counter({' ': 1}), 'ise ': Counter({'t': 1}), 'se t': Counter({'h': 1}), 'thei': Counter({'r': 1}), 'heir': Counter({' ': 1}), 'eir ': Counter({'a': 1}), 'ir a': Counter({'b': 1}), 'r ab': Counter({'u': 1}), ' abu': Counter({'n': 1}), 'abun': Counter({'d': 1}), 'bund': Counter({'a': 1}), 'unda': Counter({'n': 1}), 'ndan': Counter({'c': 1}), 'danc': Counter({'e': 1}), 'ance': Counter({';': 1, ' ': 1}), 'nce;': Counter({' ': 1}), 'ce; ': Counter({'o': 1}), 'e; o': Counter({'u': 1}), '; ou': Counter({'r': 1}), 'our\\n': Counter({'s': 1}), 'ur\\ns': Counter({'u': 1}), 'r\\nsu': Counter({'f': 1}), '\\nsuf': Counter({'f': 1}), 'suff': Counter({'e': 1}), 'uffe': Counter({'r': 1}), 'ffer': Counter({'a': 1}), 'fera': Counter({'n': 1}), 'eran': Counter({'c': 1}), 'ranc': Counter({'e': 1}), 'nce ': Counter({'i': 1}), 'ce i': Counter({'s': 1}), 'e is': Counter({' ': 1}), 's a ': Counter({'g': 1}), ' a g': Counter({'a': 1}), 'a ga': Counter({'i': 1}), ' gai': Counter({'n': 1}), 'gain': Counter({' ': 1}), 'ain ': Counter({'t': 1}), 'in t': Counter({'o': 1, 'h': 1}), 'them': Counter({' ': 1}), 'hem ': Counter({'L': 1}), 'em L': Counter({'e': 1}), 'm Le': Counter({'t': 1}), ' Let': Counter({' ': 1}), 'us r': Counter({'e': 1}), 's re': Counter({'v': 1}), ' rev': Counter({'e': 2}), 'reve': Counter({'n': 2}), 'even': Counter({'g': 2}), 'veng': Counter({'e': 2}), 'enge': Counter({' ': 1, '.': 1}), 'nge ': Counter({'t': 1}), 'ge t': Counter({'h': 1}), 'this': Counter({' ': 2}), 'his ': Counter({'w': 1, 'i': 1}), 'is w': Counter({'i': 1}), 's wi': Counter({'t': 1}), ' wit': Counter({'h': 1}), 'with': Counter({'\\n': 1}), 'ith\\n': Counter({'o': 1}), 'th\\no': Counter({'u': 1}), 'h\\nou': Counter({'r': 1}), '\\nour': Counter({' ': 1}), 'ur p': Counter({'i': 1}), 'r pi': Counter({'k': 1}), ' pik': Counter({'e': 1}), 'pike': Counter({'s': 1}), 'ikes': Counter({',': 1}), 'kes,': Counter({' ': 1}), 'es, ': Counter({'e': 1}), 's, e': Counter({'r': 1}), ', er': Counter({'e': 1}), ' ere': Counter({' ': 1}), 'ere ': Counter({'w': 1}), 'we b': Counter({'e': 1}), 'e be': Counter({'c': 1}), ' bec': Counter({'o': 1}), 'beco': Counter({'m': 1}), 'ecom': Counter({'e': 1}), 'come': Counter({' ': 1}), 'ome ': Counter({'r': 1}), 'me r': Counter({'a': 1}), 'e ra': Counter({'k': 1}), ' rak': Counter({'e': 1}), 'rake': Counter({'s': 1}), 'akes': Counter({':': 1}), 'kes:': Counter({' ': 1}), 'es: ': Counter({'f': 1}), 's: f': Counter({'o': 1}), ': fo': Counter({'r': 1}), ' for': Counter({' ': 3}), 'for ': Counter({'t': 1, 'b': 1, 'r': 1}), 'or t': Counter({'h': 1}), 'r th': Counter({'e': 1}), 'he g': Counter({'o': 1}), 'e go': Counter({'d': 1}), ' god': Counter({'s': 1}), 'gods': Counter({' ': 1}), 'ods ': Counter({'k': 1}), 'ds k': Counter({'n': 1}), 's kn': Counter({'o': 1}), 'ow I': Counter({'\\n': 1}), 'w I\\n': Counter({'s': 1}), ' I\\ns': Counter({'p': 1}), 'I\\nsp': Counter({'e': 1}), '\\nspe': Counter({'a': 1}), 'eak ': Counter({'t': 1}), 'ak t': Counter({'h': 1}), 'k th': Counter({'i': 1}), 'is i': Counter({'n': 1}), 's in': Counter({' ': 1}), ' in ': Counter({'h': 1, 't': 1}), 'in h': Counter({'u': 1}), 'n hu': Counter({'n': 1}), ' hun': Counter({'g': 1}), 'hung': Counter({'e': 1}), 'unge': Counter({'r': 1}), 'nger': Counter({' ': 1}), 'ger ': Counter({'f': 1}), 'er f': Counter({'o': 1}), 'r fo': Counter({'r': 1}), 'or b': Counter({'r': 1}), 'r br': Counter({'e': 1}), ' bre': Counter({'a': 1}), 'brea': Counter({'d': 1}), 'read': Counter({',': 1}), 'ead,': Counter({' ': 1}), 'ad, ': Counter({'n': 1}), 'd, n': Counter({'o': 1}), ', no': Counter({'t': 1}), ' not': Counter({' ': 1}), 'not ': Counter({'i': 1}), 'ot i': Counter({'n': 1}), 't in': Counter({' ': 1}), 'n th': Counter({'i': 1}), 'thir': Counter({'s': 1}), 'hirs': Counter({'t': 1}), 'st f': Counter({'o': 1}), 't fo': Counter({'r': 1}), 'or r': Counter({'e': 1}), 'r re': Counter({'v': 1}), 'nge.': Counter({'\\n': 1})})\n"
     ]
    }
   ],
   "source": [
    "print(result)"
   ]
  },
  {
   "cell_type": "code",
   "execution_count": 7,
   "metadata": {},
   "outputs": [
    {
     "name": "stdout",
     "output_type": "stream",
     "text": [
      "Counter({'~': 4, '\\n': 1})\n",
      "Counter({'B': 1, 'Y': 1, 'F': 1, 'L': 1, 'O': 1, 'W': 1})\n"
     ]
    }
   ],
   "source": [
    "print(result['~~~~'])\n",
    "print(result['en:\\n'])"
   ]
  },
  {
   "cell_type": "code",
   "execution_count": 8,
   "metadata": {},
   "outputs": [
    {
     "name": "stdout",
     "output_type": "stream",
     "text": [
      "dict_items([('~~~~', Counter({'~': 4, '\\n': 1})), ('~~~\\n', Counter({'F': 1})), ('~~\\nF', Counter({'i': 1})), ('~\\nFi', Counter({'r': 1})), ('\\nFir', Counter({'s': 6})), ('Firs', Counter({'t': 6})), ('irst', Counter({' ': 6, ',': 1})), ('rst ', Counter({'C': 5, 'f': 1})), ('st C', Counter({'i': 5})), ('t Ci', Counter({'t': 5})), (' Cit', Counter({'i': 6})), ('Citi', Counter({'z': 6})), ('itiz', Counter({'e': 8})), ('tize', Counter({'n': 8})), ('izen', Counter({':': 6, 's': 2})), ('zen:', Counter({'\\n': 6})), ('en:\\n', Counter({'B': 1, 'Y': 1, 'F': 1, 'L': 1, 'O': 1, 'W': 1})), ('n:\\nB', Counter({'e': 1})), (':\\nBe', Counter({'f': 1})), ('\\nBef', Counter({'o': 1})), ('Befo', Counter({'r': 1})), ('efor', Counter({'e': 1})), ('fore', Counter({' ': 1})), ('ore ', Counter({'w': 1, 't': 1})), ('re w', Counter({'e': 2})), ('e we', Counter({' ': 2})), (' we ', Counter({'p': 1, 'k': 1, 'm': 1, 'a': 1, 'b': 1})), ('we p', Counter({'r': 1})), ('e pr', Counter({'o': 1})), (' pro', Counter({'c': 1})), ('proc', Counter({'e': 1})), ('roce', Counter({'e': 1})), ('ocee', Counter({'d': 1})), ('ceed', Counter({' ': 1})), ('eed ', Counter({'a': 1})), ('ed a', Counter({'n': 1})), ('d an', Counter({'y': 1})), (' any', Counter({' ': 1})), ('any ', Counter({'f': 1})), ('ny f', Counter({'u': 1})), ('y fu', Counter({'r': 1})), (' fur', Counter({'t': 1})), ('furt', Counter({'h': 1})), ('urth', Counter({'e': 1})), ('rthe', Counter({'r': 1})), ('ther', Counter({',': 1, ' ': 1})), ('her,', Counter({' ': 1})), ('er, ', Counter({'h': 1})), ('r, h', Counter({'e': 1})), (', he', Counter({'a': 1})), (' hea', Counter({'r': 1})), ('hear', Counter({' ': 1})), ('ear ', Counter({'m': 1})), ('ar m', Counter({'e': 1})), ('r me', Counter({' ': 1})), (' me ', Counter({'s': 1})), ('me s', Counter({'p': 1})), ('e sp', Counter({'e': 1})), (' spe', Counter({'a': 2})), ('spea', Counter({'k': 3})), ('peak', Counter({'.': 2, ',': 1, ' ': 1})), ('eak.', Counter({'\\n': 2})), ('ak.\\n', Counter({'\\n': 2})), ('k.\\n\\n', Counter({'A': 1, 'F': 1})), ('.\\n\\nA', Counter({'l': 2})), ('\\n\\nAl', Counter({'l': 4})), ('\\nAll', Counter({':': 4})), ('All:', Counter({'\\n': 4})), ('ll:\\n', Counter({'S': 1, 'R': 1, 'W': 1, 'N': 1})), ('l:\\nS', Counter({'p': 1})), (':\\nSp', Counter({'e': 1})), ('\\nSpe', Counter({'a': 1})), ('Spea', Counter({'k': 1})), ('eak,', Counter({' ': 1})), ('ak, ', Counter({'s': 1})), ('k, s', Counter({'p': 1})), (', sp', Counter({'e': 1})), ('.\\n\\nF', Counter({'i': 4})), ('\\n\\nFi', Counter({'r': 4})), ('n:\\nY', Counter({'o': 1})), (':\\nYo', Counter({'u': 1})), ('\\nYou', Counter({' ': 1})), ('You ', Counter({'a': 1})), ('ou a', Counter({'r': 1})), ('u ar', Counter({'e': 1})), (' are', Counter({' ': 3})), ('are ', Counter({'a': 2, 't': 1})), ('re a', Counter({'l': 1, 'c': 1})), ('e al', Counter({'l': 1})), (' all', Counter({' ': 1})), ('all ', Counter({'r': 1})), ('ll r', Counter({'e': 1})), ('l re', Counter({'s': 1})), (' res', Counter({'o': 2})), ('reso', Counter({'l': 2})), ('esol', Counter({'v': 3})), ('solv', Counter({'e': 3})), ('olve', Counter({'d': 3})), ('lved', Counter({'.': 2, ' ': 1})), ('ved ', Counter({'r': 1, 'u': 1})), ('ed r', Counter({'a': 1})), ('d ra', Counter({'t': 1})), (' rat', Counter({'h': 1})), ('rath', Counter({'e': 1})), ('athe', Counter({'r': 1})), ('her ', Counter({'t': 1})), ('er t', Counter({'o': 1})), ('r to', Counter({' ': 1})), (' to ', Counter({'t': 2, 'd': 1, 'f': 1, 'p': 1})), ('to d', Counter({'i': 1})), ('o di', Counter({'e': 1})), (' die', Counter({' ': 1})), ('die ', Counter({'t': 1})), ('ie t', Counter({'h': 1})), ('e th', Counter({'a': 1, 'e': 1, 'i': 1})), (' tha', Counter({'n': 1, 't': 1})), ('than', Counter({' ': 1})), ('han ', Counter({'t': 1})), ('an t', Counter({'o': 1})), ('n to', Counter({' ': 2})), ('to f', Counter({'a': 1})), ('o fa', Counter({'m': 1})), (' fam', Counter({'i': 1})), ('fami', Counter({'s': 1})), ('amis', Counter({'h': 1})), ('mish', Counter({'?': 1})), ('ish?', Counter({'\\n': 1})), ('sh?\\n', Counter({'\\n': 1})), ('h?\\n\\n', Counter({'A': 1})), ('?\\n\\nA', Counter({'l': 2})), ('l:\\nR', Counter({'e': 1})), (':\\nRe', Counter({'s': 1})), ('\\nRes', Counter({'o': 1})), ('Reso', Counter({'l': 1})), ('ved.', Counter({' ': 1, '\\n': 1})), ('ed. ', Counter({'r': 1})), ('d. r', Counter({'e': 1})), ('. re', Counter({'s': 1})), ('ed.\\n', Counter({'\\n': 1})), ('d.\\n\\n', Counter({'F': 1})), ('n:\\nF', Counter({'i': 1})), (':\\nFi', Counter({'r': 1})), ('rst,', Counter({' ': 1})), ('st, ', Counter({'y': 1})), ('t, y', Counter({'o': 1})), (', yo', Counter({'u': 1})), (' you', Counter({' ': 1})), ('you ', Counter({'k': 1})), ('ou k', Counter({'n': 1})), ('u kn', Counter({'o': 1})), (' kno', Counter({'w': 4})), ('know', Counter({' ': 2, \"'\": 2})), ('now ', Counter({'C': 1, 'I': 1})), ('ow C', Counter({'a': 1})), ('w Ca', Counter({'i': 1})), (' Cai', Counter({'u': 1})), ('Caiu', Counter({'s': 1})), ('aius', Counter({' ': 1})), ('ius ', Counter({'M': 1, 'i': 1})), ('us M', Counter({'a': 1})), ('s Ma', Counter({'r': 1})), (' Mar', Counter({'c': 1})), ('Marc', Counter({'i': 1})), ('arci', Counter({'u': 1})), ('rciu', Counter({'s': 1})), ('cius', Counter({' ': 1})), ('us i', Counter({'s': 1})), ('s is', Counter({' ': 1})), (' is ', Counter({'a': 2, 'c': 1})), ('is c', Counter({'h': 1})), ('s ch', Counter({'i': 1})), (' chi', Counter({'e': 1})), ('chie', Counter({'f': 1})), ('hief', Counter({' ': 1})), ('ief ', Counter({'e': 1})), ('ef e', Counter({'n': 1})), ('f en', Counter({'e': 1})), (' ene', Counter({'m': 1})), ('enem', Counter({'y': 1})), ('nemy', Counter({' ': 1})), ('emy ', Counter({'t': 1})), ('my t', Counter({'o': 1})), ('y to', Counter({' ': 2})), ('to t', Counter({'h': 2})), ('o th', Counter({'e': 2})), (' the', Counter({' ': 6, 'y': 3, 'i': 1, 'm': 1})), ('the ', Counter({'p': 2, 's': 1, 'l': 1, 'o': 1, 'g': 1})), ('he p', Counter({'e': 1, 'a': 1})), ('e pe', Counter({'o': 1})), (' peo', Counter({'p': 1})), ('peop', Counter({'l': 1})), ('eopl', Counter({'e': 1})), ('ople', Counter({'.': 1})), ('ple.', Counter({'\\n': 1})), ('le.\\n', Counter({'\\n': 1})), ('e.\\n\\n', Counter({'A': 1})), ('l:\\nW', Counter({'e': 1})), (':\\nWe', Counter({' ': 2})), ('\\nWe ', Counter({'k': 1, 'a': 1})), ('We k', Counter({'n': 1})), ('e kn', Counter({'o': 2})), (\"now'\", Counter({'t': 2})), (\"ow't\", Counter({',': 1, '.': 1})), (\"w't,\", Counter({' ': 1})), (\"'t, \", Counter({'w': 1})), ('t, w', Counter({'e': 1})), (', we', Counter({' ': 2})), ('we k', Counter({'n': 1})), (\"w't.\", Counter({'\\n': 1})), (\"'t.\\n\", Counter({'\\n': 1})), ('t.\\n\\n', Counter({'F': 1})), ('n:\\nL', Counter({'e': 1})), (':\\nLe', Counter({'t': 1})), ('\\nLet', Counter({' ': 1})), ('Let ', Counter({'u': 2})), ('et u', Counter({'s': 2})), ('t us', Counter({' ': 2})), (' us ', Counter({'k': 1, 'b': 1, 'h': 1, 'r': 1})), ('us k', Counter({'i': 1})), ('s ki', Counter({'l': 1})), (' kil', Counter({'l': 1})), ('kill', Counter({' ': 1})), ('ill ', Counter({'h': 1})), ('ll h', Counter({'i': 1, 'a': 1})), ('l hi', Counter({'m': 1})), (' him', Counter({',': 1})), ('him,', Counter({' ': 1})), ('im, ', Counter({'a': 1})), ('m, a', Counter({'n': 1})), (', an', Counter({'d': 1})), (' and', Counter({' ': 1})), ('and ', Counter({'w': 1})), ('nd w', Counter({'e': 1})), ('d we', Counter({\"'\": 1})), (\" we'\", Counter({'l': 1})), (\"we'l\", Counter({'l': 1})), (\"e'll\", Counter({' ': 1})), (\"'ll \", Counter({'h': 1})), ('l ha', Counter({'v': 1})), (' hav', Counter({'e': 1})), ('have', Counter({' ': 1})), ('ave ', Counter({'c': 1})), ('ve c', Counter({'o': 1})), ('e co', Counter({'r': 1})), (' cor', Counter({'n': 1})), ('corn', Counter({' ': 1})), ('orn ', Counter({'a': 1})), ('rn a', Counter({'t': 1})), ('n at', Counter({' ': 1})), (' at ', Counter({'o': 1})), ('at o', Counter({'u': 1})), ('t ou', Counter({'r': 1})), (' our', Counter({' ': 2, '\\n': 1})), ('our ', Counter({'o': 1, 'm': 1, 'p': 1})), ('ur o', Counter({'w': 1})), ('r ow', Counter({'n': 1})), (' own', Counter({' ': 1})), ('own ', Counter({'p': 1})), ('wn p', Counter({'r': 1})), ('n pr', Counter({'i': 1})), (' pri', Counter({'c': 1})), ('pric', Counter({'e': 1})), ('rice', Counter({'.': 1})), ('ice.', Counter({'\\n': 1})), ('ce.\\n', Counter({'I': 1})), ('e.\\nI', Counter({'s': 1})), ('.\\nIs', Counter({\"'\": 1})), (\"\\nIs'\", Counter({'t': 1})), (\"Is't\", Counter({' ': 1})), (\"s't \", Counter({'a': 1})), (\"'t a\", Counter({' ': 1})), ('t a ', Counter({'v': 1})), (' a v', Counter({'e': 1})), ('a ve', Counter({'r': 1})), (' ver', Counter({'d': 1})), ('verd', Counter({'i': 1})), ('erdi', Counter({'c': 1})), ('rdic', Counter({'t': 1})), ('dict', Counter({'?': 1})), ('ict?', Counter({'\\n': 1})), ('ct?\\n', Counter({'\\n': 1})), ('t?\\n\\n', Counter({'A': 1})), ('l:\\nN', Counter({'o': 1})), (':\\nNo', Counter({' ': 1})), ('\\nNo ', Counter({'m': 1})), ('No m', Counter({'o': 1})), ('o mo', Counter({'r': 1})), (' mor', Counter({'e': 1})), ('more', Counter({' ': 1})), ('re t', Counter({'a': 1, 'o': 1})), ('e ta', Counter({'l': 1})), (' tal', Counter({'k': 1})), ('talk', Counter({'i': 1})), ('alki', Counter({'n': 1})), ('lkin', Counter({'g': 1})), ('king', Counter({' ': 1})), ('ing ', Counter({'o': 1})), ('ng o', Counter({'n': 1})), ('g on', Counter({\"'\": 1})), (\" on'\", Counter({'t': 1})), (\"on't\", Counter({';': 1})), (\"n't;\", Counter({' ': 1})), (\"'t; \", Counter({'l': 1})), ('t; l', Counter({'e': 1})), ('; le', Counter({'t': 1})), (' let', Counter({' ': 1})), ('let ', Counter({'i': 1})), ('et i', Counter({'t': 1})), ('t it', Counter({' ': 1})), (' it ', Counter({'b': 1, 'w': 1})), ('it b', Counter({'e': 1})), ('t be', Counter({' ': 1})), (' be ', Counter({'d': 1})), ('be d', Counter({'o': 1})), ('e do', Counter({'n': 1})), (' don', Counter({'e': 1})), ('done', Counter({':': 1})), ('one:', Counter({' ': 1})), ('ne: ', Counter({'a': 1})), ('e: a', Counter({'w': 1})), (': aw', Counter({'a': 1})), (' awa', Counter({'y': 2})), ('away', Counter({',': 1, '!': 1})), ('way,', Counter({' ': 1})), ('ay, ', Counter({'a': 1})), ('y, a', Counter({'w': 1})), (', aw', Counter({'a': 1})), ('way!', Counter({'\\n': 1})), ('ay!\\n', Counter({'\\n': 1})), ('y!\\n\\n', Counter({'S': 1})), ('!\\n\\nS', Counter({'e': 1})), ('\\n\\nSe', Counter({'c': 1})), ('\\nSec', Counter({'o': 1})), ('Seco', Counter({'n': 1})), ('econ', Counter({'d': 1})), ('cond', Counter({' ': 1})), ('ond ', Counter({'C': 1})), ('nd C', Counter({'i': 1})), ('d Ci', Counter({'t': 1})), ('n:\\nO', Counter({'n': 1})), (':\\nOn', Counter({'e': 1})), ('\\nOne', Counter({' ': 1})), ('One ', Counter({'w': 1})), ('ne w', Counter({'o': 1})), ('e wo', Counter({'r': 1})), (' wor', Counter({'d': 1})), ('word', Counter({',': 1})), ('ord,', Counter({' ': 1})), ('rd, ', Counter({'g': 1})), ('d, g', Counter({'o': 1})), (', go', Counter({'o': 1})), (' goo', Counter({'d': 2})), ('good', Counter({' ': 1, '.': 1})), ('ood ', Counter({'c': 1})), ('od c', Counter({'i': 1})), ('d ci', Counter({'t': 1})), (' cit', Counter({'i': 2})), ('citi', Counter({'z': 2})), ('zens', Counter({'.': 1, ',': 1})), ('ens.', Counter({'\\n': 1})), ('ns.\\n', Counter({'\\n': 1})), ('s.\\n\\n', Counter({'F': 1})), ('n:\\nW', Counter({'e': 1})), ('We a', Counter({'r': 1})), ('e ar', Counter({'e': 2})), ('e ac', Counter({'c': 1})), (' acc', Counter({'o': 1})), ('acco', Counter({'u': 1})), ('ccou', Counter({'n': 1})), ('coun', Counter({'t': 1})), ('ount', Counter({'e': 1})), ('unte', Counter({'d': 1})), ('nted', Counter({' ': 1})), ('ted ', Counter({'p': 1})), ('ed p', Counter({'o': 1})), ('d po', Counter({'o': 1})), (' poo', Counter({'r': 1})), ('poor', Counter({' ': 1})), ('oor ', Counter({'c': 1})), ('or c', Counter({'i': 1})), ('r ci', Counter({'t': 1})), ('ens,', Counter({' ': 1})), ('ns, ', Counter({'t': 1})), ('s, t', Counter({'h': 2})), (', th', Counter({'e': 2})), ('e pa', Counter({'t': 1})), (' pat', Counter({'r': 1})), ('patr', Counter({'i': 1})), ('atri', Counter({'c': 1})), ('tric', Counter({'i': 1})), ('rici', Counter({'a': 1})), ('icia', Counter({'n': 1})), ('cian', Counter({'s': 1})), ('ians', Counter({' ': 1})), ('ans ', Counter({'g': 1})), ('ns g', Counter({'o': 1})), ('s go', Counter({'o': 1})), ('ood.', Counter({'\\n': 1})), ('od.\\n', Counter({'W': 1})), ('d.\\nW', Counter({'h': 1})), ('.\\nWh', Counter({'a': 1})), ('\\nWha', Counter({'t': 1})), ('What', Counter({' ': 1})), ('hat ', Counter({'a': 1})), ('at a', Counter({'u': 1})), ('t au', Counter({'t': 1})), (' aut', Counter({'h': 1})), ('auth', Counter({'o': 1})), ('utho', Counter({'r': 1})), ('thor', Counter({'i': 1})), ('hori', Counter({'t': 1})), ('orit', Counter({'y': 1})), ('rity', Counter({' ': 1})), ('ity ', Counter({'s': 1})), ('ty s', Counter({'u': 1})), ('y su', Counter({'r': 1})), (' sur', Counter({'f': 1})), ('surf', Counter({'e': 1})), ('urfe', Counter({'i': 1})), ('rfei', Counter({'t': 1})), ('feit', Counter({'s': 1})), ('eits', Counter({' ': 1})), ('its ', Counter({'o': 1})), ('ts o', Counter({'n': 1})), ('s on', Counter({' ': 1})), (' on ', Counter({'w': 1})), ('on w', Counter({'o': 1})), ('n wo', Counter({'u': 1})), (' wou', Counter({'l': 1})), ('woul', Counter({'d': 2})), ('ould', Counter({' ': 2})), ('uld ', Counter({'r': 1, 'y': 1})), ('ld r', Counter({'e': 1})), ('d re', Counter({'l': 1})), (' rel', Counter({'i': 2})), ('reli', Counter({'e': 2})), ('elie', Counter({'v': 2})), ('liev', Counter({'e': 2})), ('ieve', Counter({' ': 1, 'd': 1})), ('eve ', Counter({'u': 1})), ('ve u', Counter({'s': 1})), ('e us', Counter({':': 1})), (' us:', Counter({' ': 1})), ('us: ', Counter({'i': 1})), ('s: i', Counter({'f': 1})), (': if', Counter({' ': 1})), (' if ', Counter({'t': 1})), ('if t', Counter({'h': 1})), ('f th', Counter({'e': 1})), ('they', Counter({' ': 2, '\\n': 1})), ('hey\\n', Counter({'w': 1})), ('ey\\nw', Counter({'o': 1})), ('y\\nwo', Counter({'u': 1})), ('\\nwou', Counter({'l': 1})), ('ld y', Counter({'i': 1})), ('d yi', Counter({'e': 1})), (' yie', Counter({'l': 1})), ('yiel', Counter({'d': 1})), ('ield', Counter({' ': 1})), ('eld ', Counter({'u': 1})), ('ld u', Counter({'s': 1})), ('d us', Counter({' ': 2})), ('us b', Counter({'u': 1})), ('s bu', Counter({'t': 1})), (' but', Counter({' ': 1})), ('but ', Counter({'t': 2})), ('ut t', Counter({'h': 2})), ('t th', Counter({'e': 2})), ('he s', Counter({'u': 1})), ('e su', Counter({'p': 1})), (' sup', Counter({'e': 1})), ('supe', Counter({'r': 1})), ('uper', Counter({'f': 1})), ('perf', Counter({'l': 1})), ('erfl', Counter({'u': 1})), ('rflu', Counter({'i': 1})), ('flui', Counter({'t': 1})), ('luit', Counter({'y': 1})), ('uity', Counter({',': 1})), ('ity,', Counter({' ': 1})), ('ty, ', Counter({'w': 1})), ('y, w', Counter({'h': 1})), (', wh', Counter({'i': 1})), (' whi', Counter({'l': 1})), ('whil', Counter({'e': 1})), ('hile', Counter({' ': 1})), ('ile ', Counter({'i': 1})), ('le i', Counter({'t': 1})), ('e it', Counter({' ': 1})), ('it w', Counter({'e': 1})), ('t we', Counter({'r': 1})), (' wer', Counter({'e': 1})), ('were', Counter({'\\n': 1})), ('ere\\n', Counter({'w': 1})), ('re\\nw', Counter({'h': 1})), ('e\\nwh', Counter({'o': 1})), ('\\nwho', Counter({'l': 1})), ('whol', Counter({'e': 1})), ('hole', Counter({'s': 1})), ('oles', Counter({'o': 1})), ('leso', Counter({'m': 1})), ('esom', Counter({'e': 1})), ('some', Counter({',': 1})), ('ome,', Counter({' ': 1})), ('me, ', Counter({'w': 1})), ('e, w', Counter({'e': 1})), ('we m', Counter({'i': 1})), ('e mi', Counter({'g': 1})), (' mig', Counter({'h': 1})), ('migh', Counter({'t': 1})), ('ight', Counter({' ': 1})), ('ght ', Counter({'g': 1})), ('ht g', Counter({'u': 1})), ('t gu', Counter({'e': 1})), (' gue', Counter({'s': 1})), ('gues', Counter({'s': 1})), ('uess', Counter({' ': 1})), ('ess ', Counter({'t': 2})), ('ss t', Counter({'h': 2})), ('s th', Counter({'e': 1, 'a': 1})), ('hey ', Counter({'r': 1, 't': 1})), ('ey r', Counter({'e': 1})), ('y re', Counter({'l': 1})), ('eved', Counter({' ': 1})), ('ed u', Counter({'s': 1})), ('us h', Counter({'u': 1})), ('s hu', Counter({'m': 1})), (' hum', Counter({'a': 1})), ('huma', Counter({'n': 1})), ('uman', Counter({'e': 1})), ('mane', Counter({'l': 1})), ('anel', Counter({'y': 1})), ('nely', Counter({';': 1})), ('ely;', Counter({'\\n': 1})), ('ly;\\n', Counter({'b': 1})), ('y;\\nb', Counter({'u': 1})), (';\\nbu', Counter({'t': 1})), ('\\nbut', Counter({' ': 1})), ('ey t', Counter({'h': 1})), ('y th', Counter({'i': 1})), (' thi', Counter({'s': 2, 'n': 1, 'r': 1})), ('thin', Counter({'k': 1})), ('hink', Counter({' ': 1})), ('ink ', Counter({'w': 1})), ('nk w', Counter({'e': 1})), ('k we', Counter({' ': 1})), ('we a', Counter({'r': 1})), ('e to', Counter({'o': 1})), (' too', Counter({' ': 1})), ('too ', Counter({'d': 1})), ('oo d', Counter({'e': 1})), ('o de', Counter({'a': 1})), (' dea', Counter({'r': 1})), ('dear', Counter({':': 1})), ('ear:', Counter({' ': 1})), ('ar: ', Counter({'t': 1})), ('r: t', Counter({'h': 1})), (': th', Counter({'e': 1})), ('he l', Counter({'e': 1})), ('e le', Counter({'a': 1})), (' lea', Counter({'n': 1})), ('lean', Counter({'n': 1})), ('eann', Counter({'e': 1})), ('anne', Counter({'s': 1})), ('nnes', Counter({'s': 1})), ('ness', Counter({' ': 1})), ('that', Counter({'\\n': 1})), ('hat\\n', Counter({'a': 1})), ('at\\na', Counter({'f': 1})), ('t\\naf', Counter({'f': 1})), ('\\naff', Counter({'l': 1})), ('affl', Counter({'i': 1})), ('ffli', Counter({'c': 1})), ('flic', Counter({'t': 1})), ('lict', Counter({'s': 1})), ('icts', Counter({' ': 1})), ('cts ', Counter({'u': 1})), ('ts u', Counter({'s': 1})), ('s us', Counter({',': 1})), (' us,', Counter({' ': 1})), ('us, ', Counter({'t': 1})), ('he o', Counter({'b': 1})), ('e ob', Counter({'j': 1})), (' obj', Counter({'e': 1})), ('obje', Counter({'c': 1})), ('bjec', Counter({'t': 1})), ('ject', Counter({' ': 1})), ('ect ', Counter({'o': 1})), ('ct o', Counter({'f': 1})), ('t of', Counter({' ': 1})), (' of ', Counter({'o': 1})), ('of o', Counter({'u': 1})), ('f ou', Counter({'r': 1})), ('ur m', Counter({'i': 1})), ('r mi', Counter({'s': 1})), (' mis', Counter({'e': 1})), ('mise', Counter({'r': 1})), ('iser', Counter({'y': 1})), ('sery', Counter({',': 1})), ('ery,', Counter({' ': 1})), ('ry, ', Counter({'i': 1})), ('y, i', Counter({'s': 1})), (', is', Counter({' ': 1})), ('is a', Counter({'s': 1, ' ': 1})), ('s as', Counter({' ': 1})), (' as ', Counter({'a': 1})), ('as a', Counter({'n': 1})), ('s an', Counter({'\\n': 1})), (' an\\n', Counter({'i': 1})), ('an\\ni', Counter({'n': 1})), ('n\\nin', Counter({'v': 1})), ('\\ninv', Counter({'e': 1})), ('inve', Counter({'n': 1})), ('nven', Counter({'t': 1})), ('vent', Counter({'o': 1})), ('ento', Counter({'r': 1})), ('ntor', Counter({'y': 1})), ('tory', Counter({' ': 1})), ('ory ', Counter({'t': 1})), ('ry t', Counter({'o': 1})), ('to p', Counter({'a': 1})), ('o pa', Counter({'r': 1})), (' par', Counter({'t': 1})), ('part', Counter({'i': 1})), ('arti', Counter({'c': 1})), ('rtic', Counter({'u': 1})), ('ticu', Counter({'l': 1})), ('icul', Counter({'a': 1})), ('cula', Counter({'r': 1})), ('ular', Counter({'i': 1})), ('lari', Counter({'s': 1})), ('aris', Counter({'e': 1})), ('rise', Counter({' ': 1})), ('ise ', Counter({'t': 1})), ('se t', Counter({'h': 1})), ('thei', Counter({'r': 1})), ('heir', Counter({' ': 1})), ('eir ', Counter({'a': 1})), ('ir a', Counter({'b': 1})), ('r ab', Counter({'u': 1})), (' abu', Counter({'n': 1})), ('abun', Counter({'d': 1})), ('bund', Counter({'a': 1})), ('unda', Counter({'n': 1})), ('ndan', Counter({'c': 1})), ('danc', Counter({'e': 1})), ('ance', Counter({';': 1, ' ': 1})), ('nce;', Counter({' ': 1})), ('ce; ', Counter({'o': 1})), ('e; o', Counter({'u': 1})), ('; ou', Counter({'r': 1})), ('our\\n', Counter({'s': 1})), ('ur\\ns', Counter({'u': 1})), ('r\\nsu', Counter({'f': 1})), ('\\nsuf', Counter({'f': 1})), ('suff', Counter({'e': 1})), ('uffe', Counter({'r': 1})), ('ffer', Counter({'a': 1})), ('fera', Counter({'n': 1})), ('eran', Counter({'c': 1})), ('ranc', Counter({'e': 1})), ('nce ', Counter({'i': 1})), ('ce i', Counter({'s': 1})), ('e is', Counter({' ': 1})), ('s a ', Counter({'g': 1})), (' a g', Counter({'a': 1})), ('a ga', Counter({'i': 1})), (' gai', Counter({'n': 1})), ('gain', Counter({' ': 1})), ('ain ', Counter({'t': 1})), ('in t', Counter({'o': 1, 'h': 1})), ('them', Counter({' ': 1})), ('hem ', Counter({'L': 1})), ('em L', Counter({'e': 1})), ('m Le', Counter({'t': 1})), (' Let', Counter({' ': 1})), ('us r', Counter({'e': 1})), ('s re', Counter({'v': 1})), (' rev', Counter({'e': 2})), ('reve', Counter({'n': 2})), ('even', Counter({'g': 2})), ('veng', Counter({'e': 2})), ('enge', Counter({' ': 1, '.': 1})), ('nge ', Counter({'t': 1})), ('ge t', Counter({'h': 1})), ('this', Counter({' ': 2})), ('his ', Counter({'w': 1, 'i': 1})), ('is w', Counter({'i': 1})), ('s wi', Counter({'t': 1})), (' wit', Counter({'h': 1})), ('with', Counter({'\\n': 1})), ('ith\\n', Counter({'o': 1})), ('th\\no', Counter({'u': 1})), ('h\\nou', Counter({'r': 1})), ('\\nour', Counter({' ': 1})), ('ur p', Counter({'i': 1})), ('r pi', Counter({'k': 1})), (' pik', Counter({'e': 1})), ('pike', Counter({'s': 1})), ('ikes', Counter({',': 1})), ('kes,', Counter({' ': 1})), ('es, ', Counter({'e': 1})), ('s, e', Counter({'r': 1})), (', er', Counter({'e': 1})), (' ere', Counter({' ': 1})), ('ere ', Counter({'w': 1})), ('we b', Counter({'e': 1})), ('e be', Counter({'c': 1})), (' bec', Counter({'o': 1})), ('beco', Counter({'m': 1})), ('ecom', Counter({'e': 1})), ('come', Counter({' ': 1})), ('ome ', Counter({'r': 1})), ('me r', Counter({'a': 1})), ('e ra', Counter({'k': 1})), (' rak', Counter({'e': 1})), ('rake', Counter({'s': 1})), ('akes', Counter({':': 1})), ('kes:', Counter({' ': 1})), ('es: ', Counter({'f': 1})), ('s: f', Counter({'o': 1})), (': fo', Counter({'r': 1})), (' for', Counter({' ': 3})), ('for ', Counter({'t': 1, 'b': 1, 'r': 1})), ('or t', Counter({'h': 1})), ('r th', Counter({'e': 1})), ('he g', Counter({'o': 1})), ('e go', Counter({'d': 1})), (' god', Counter({'s': 1})), ('gods', Counter({' ': 1})), ('ods ', Counter({'k': 1})), ('ds k', Counter({'n': 1})), ('s kn', Counter({'o': 1})), ('ow I', Counter({'\\n': 1})), ('w I\\n', Counter({'s': 1})), (' I\\ns', Counter({'p': 1})), ('I\\nsp', Counter({'e': 1})), ('\\nspe', Counter({'a': 1})), ('eak ', Counter({'t': 1})), ('ak t', Counter({'h': 1})), ('k th', Counter({'i': 1})), ('is i', Counter({'n': 1})), ('s in', Counter({' ': 1})), (' in ', Counter({'h': 1, 't': 1})), ('in h', Counter({'u': 1})), ('n hu', Counter({'n': 1})), (' hun', Counter({'g': 1})), ('hung', Counter({'e': 1})), ('unge', Counter({'r': 1})), ('nger', Counter({' ': 1})), ('ger ', Counter({'f': 1})), ('er f', Counter({'o': 1})), ('r fo', Counter({'r': 1})), ('or b', Counter({'r': 1})), ('r br', Counter({'e': 1})), (' bre', Counter({'a': 1})), ('brea', Counter({'d': 1})), ('read', Counter({',': 1})), ('ead,', Counter({' ': 1})), ('ad, ', Counter({'n': 1})), ('d, n', Counter({'o': 1})), (', no', Counter({'t': 1})), (' not', Counter({' ': 1})), ('not ', Counter({'i': 1})), ('ot i', Counter({'n': 1})), ('t in', Counter({' ': 1})), ('n th', Counter({'i': 1})), ('thir', Counter({'s': 1})), ('hirs', Counter({'t': 1})), ('st f', Counter({'o': 1})), ('t fo', Counter({'r': 1})), ('or r', Counter({'e': 1})), ('r re', Counter({'v': 1})), ('nge.', Counter({'\\n': 1}))])\n"
     ]
    }
   ],
   "source": [
    "print(result.items())"
   ]
  },
  {
   "cell_type": "code",
   "execution_count": 12,
   "metadata": {},
   "outputs": [
    {
     "name": "stdout",
     "output_type": "stream",
     "text": [
      "defaultdict(<class 'collections.Counter'>, {'~~~~': Counter({'~': 4, '\\n': 1}), '~~~\\n': Counter({'F': 1}), '~~\\nF': Counter({'i': 1}), '~\\nFi': Counter({'r': 1}), '\\nFir': Counter({'s': 6}), 'Firs': Counter({'t': 6}), 'irst': Counter({' ': 6, ',': 1}), 'rst ': Counter({'C': 5, 'f': 1}), 'st C': Counter({'i': 5}), 't Ci': Counter({'t': 5}), ' Cit': Counter({'i': 6}), 'Citi': Counter({'z': 6}), 'itiz': Counter({'e': 8}), 'tize': Counter({'n': 8}), 'izen': Counter({':': 6, 's': 2}), 'zen:': Counter({'\\n': 6}), 'en:\\n': Counter({'B': 1, 'Y': 1, 'F': 1, 'L': 1, 'O': 1, 'W': 1}), 'n:\\nB': Counter({'e': 1}), ':\\nBe': Counter({'f': 1}), '\\nBef': Counter({'o': 1}), 'Befo': Counter({'r': 1}), 'efor': Counter({'e': 1}), 'fore': Counter({' ': 1}), 'ore ': Counter({'w': 1, 't': 1}), 're w': Counter({'e': 2}), 'e we': Counter({' ': 2}), ' we ': Counter({'p': 1, 'k': 1, 'm': 1, 'a': 1, 'b': 1}), 'we p': Counter({'r': 1}), 'e pr': Counter({'o': 1}), ' pro': Counter({'c': 1}), 'proc': Counter({'e': 1}), 'roce': Counter({'e': 1}), 'ocee': Counter({'d': 1}), 'ceed': Counter({' ': 1}), 'eed ': Counter({'a': 1}), 'ed a': Counter({'n': 1}), 'd an': Counter({'y': 1}), ' any': Counter({' ': 1}), 'any ': Counter({'f': 1}), 'ny f': Counter({'u': 1}), 'y fu': Counter({'r': 1}), ' fur': Counter({'t': 1}), 'furt': Counter({'h': 1}), 'urth': Counter({'e': 1}), 'rthe': Counter({'r': 1}), 'ther': Counter({',': 1, ' ': 1}), 'her,': Counter({' ': 1}), 'er, ': Counter({'h': 1}), 'r, h': Counter({'e': 1}), ', he': Counter({'a': 1}), ' hea': Counter({'r': 1}), 'hear': Counter({' ': 1}), 'ear ': Counter({'m': 1}), 'ar m': Counter({'e': 1}), 'r me': Counter({' ': 1}), ' me ': Counter({'s': 1}), 'me s': Counter({'p': 1}), 'e sp': Counter({'e': 1}), ' spe': Counter({'a': 2}), 'spea': Counter({'k': 3}), 'peak': Counter({'.': 2, ',': 1, ' ': 1}), 'eak.': Counter({'\\n': 2}), 'ak.\\n': Counter({'\\n': 2}), 'k.\\n\\n': Counter({'A': 1, 'F': 1}), '.\\n\\nA': Counter({'l': 2}), '\\n\\nAl': Counter({'l': 4}), '\\nAll': Counter({':': 4}), 'All:': Counter({'\\n': 4}), 'll:\\n': Counter({'S': 1, 'R': 1, 'W': 1, 'N': 1}), 'l:\\nS': Counter({'p': 1}), ':\\nSp': Counter({'e': 1}), '\\nSpe': Counter({'a': 1}), 'Spea': Counter({'k': 1}), 'eak,': Counter({' ': 1}), 'ak, ': Counter({'s': 1}), 'k, s': Counter({'p': 1}), ', sp': Counter({'e': 1}), '.\\n\\nF': Counter({'i': 4}), '\\n\\nFi': Counter({'r': 4}), 'n:\\nY': Counter({'o': 1}), ':\\nYo': Counter({'u': 1}), '\\nYou': Counter({' ': 1}), 'You ': Counter({'a': 1}), 'ou a': Counter({'r': 1}), 'u ar': Counter({'e': 1}), ' are': Counter({' ': 3}), 'are ': Counter({'a': 2, 't': 1}), 're a': Counter({'l': 1, 'c': 1}), 'e al': Counter({'l': 1}), ' all': Counter({' ': 1}), 'all ': Counter({'r': 1}), 'll r': Counter({'e': 1}), 'l re': Counter({'s': 1}), ' res': Counter({'o': 2}), 'reso': Counter({'l': 2}), 'esol': Counter({'v': 3}), 'solv': Counter({'e': 3}), 'olve': Counter({'d': 3}), 'lved': Counter({'.': 2, ' ': 1}), 'ved ': Counter({'r': 1, 'u': 1}), 'ed r': Counter({'a': 1}), 'd ra': Counter({'t': 1}), ' rat': Counter({'h': 1}), 'rath': Counter({'e': 1}), 'athe': Counter({'r': 1}), 'her ': Counter({'t': 1}), 'er t': Counter({'o': 1}), 'r to': Counter({' ': 1}), ' to ': Counter({'t': 2, 'd': 1, 'f': 1, 'p': 1}), 'to d': Counter({'i': 1}), 'o di': Counter({'e': 1}), ' die': Counter({' ': 1}), 'die ': Counter({'t': 1}), 'ie t': Counter({'h': 1}), 'e th': Counter({'a': 1, 'e': 1, 'i': 1}), ' tha': Counter({'n': 1, 't': 1}), 'than': Counter({' ': 1}), 'han ': Counter({'t': 1}), 'an t': Counter({'o': 1}), 'n to': Counter({' ': 2}), 'to f': Counter({'a': 1}), 'o fa': Counter({'m': 1}), ' fam': Counter({'i': 1}), 'fami': Counter({'s': 1}), 'amis': Counter({'h': 1}), 'mish': Counter({'?': 1}), 'ish?': Counter({'\\n': 1}), 'sh?\\n': Counter({'\\n': 1}), 'h?\\n\\n': Counter({'A': 1}), '?\\n\\nA': Counter({'l': 2}), 'l:\\nR': Counter({'e': 1}), ':\\nRe': Counter({'s': 1}), '\\nRes': Counter({'o': 1}), 'Reso': Counter({'l': 1}), 'ved.': Counter({' ': 1, '\\n': 1}), 'ed. ': Counter({'r': 1}), 'd. r': Counter({'e': 1}), '. re': Counter({'s': 1}), 'ed.\\n': Counter({'\\n': 1}), 'd.\\n\\n': Counter({'F': 1}), 'n:\\nF': Counter({'i': 1}), ':\\nFi': Counter({'r': 1}), 'rst,': Counter({' ': 1}), 'st, ': Counter({'y': 1}), 't, y': Counter({'o': 1}), ', yo': Counter({'u': 1}), ' you': Counter({' ': 1}), 'you ': Counter({'k': 1}), 'ou k': Counter({'n': 1}), 'u kn': Counter({'o': 1}), ' kno': Counter({'w': 4}), 'know': Counter({' ': 2, \"'\": 2}), 'now ': Counter({'C': 1, 'I': 1}), 'ow C': Counter({'a': 1}), 'w Ca': Counter({'i': 1}), ' Cai': Counter({'u': 1}), 'Caiu': Counter({'s': 1}), 'aius': Counter({' ': 1}), 'ius ': Counter({'M': 1, 'i': 1}), 'us M': Counter({'a': 1}), 's Ma': Counter({'r': 1}), ' Mar': Counter({'c': 1}), 'Marc': Counter({'i': 1}), 'arci': Counter({'u': 1}), 'rciu': Counter({'s': 1}), 'cius': Counter({' ': 1}), 'us i': Counter({'s': 1}), 's is': Counter({' ': 1}), ' is ': Counter({'a': 2, 'c': 1}), 'is c': Counter({'h': 1}), 's ch': Counter({'i': 1}), ' chi': Counter({'e': 1}), 'chie': Counter({'f': 1}), 'hief': Counter({' ': 1}), 'ief ': Counter({'e': 1}), 'ef e': Counter({'n': 1}), 'f en': Counter({'e': 1}), ' ene': Counter({'m': 1}), 'enem': Counter({'y': 1}), 'nemy': Counter({' ': 1}), 'emy ': Counter({'t': 1}), 'my t': Counter({'o': 1}), 'y to': Counter({' ': 2}), 'to t': Counter({'h': 2}), 'o th': Counter({'e': 2}), ' the': Counter({' ': 6, 'y': 3, 'i': 1, 'm': 1}), 'the ': Counter({'p': 2, 's': 1, 'l': 1, 'o': 1, 'g': 1}), 'he p': Counter({'e': 1, 'a': 1}), 'e pe': Counter({'o': 1}), ' peo': Counter({'p': 1}), 'peop': Counter({'l': 1}), 'eopl': Counter({'e': 1}), 'ople': Counter({'.': 1}), 'ple.': Counter({'\\n': 1}), 'le.\\n': Counter({'\\n': 1}), 'e.\\n\\n': Counter({'A': 1}), 'l:\\nW': Counter({'e': 1}), ':\\nWe': Counter({' ': 2}), '\\nWe ': Counter({'k': 1, 'a': 1}), 'We k': Counter({'n': 1}), 'e kn': Counter({'o': 2}), \"now'\": Counter({'t': 2}), \"ow't\": Counter({',': 1, '.': 1}), \"w't,\": Counter({' ': 1}), \"'t, \": Counter({'w': 1}), 't, w': Counter({'e': 1}), ', we': Counter({' ': 2}), 'we k': Counter({'n': 1}), \"w't.\": Counter({'\\n': 1}), \"'t.\\n\": Counter({'\\n': 1}), 't.\\n\\n': Counter({'F': 1}), 'n:\\nL': Counter({'e': 1}), ':\\nLe': Counter({'t': 1}), '\\nLet': Counter({' ': 1}), 'Let ': Counter({'u': 2}), 'et u': Counter({'s': 2}), 't us': Counter({' ': 2}), ' us ': Counter({'k': 1, 'b': 1, 'h': 1, 'r': 1}), 'us k': Counter({'i': 1}), 's ki': Counter({'l': 1}), ' kil': Counter({'l': 1}), 'kill': Counter({' ': 1}), 'ill ': Counter({'h': 1}), 'll h': Counter({'i': 1, 'a': 1}), 'l hi': Counter({'m': 1}), ' him': Counter({',': 1}), 'him,': Counter({' ': 1}), 'im, ': Counter({'a': 1}), 'm, a': Counter({'n': 1}), ', an': Counter({'d': 1}), ' and': Counter({' ': 1}), 'and ': Counter({'w': 1}), 'nd w': Counter({'e': 1}), 'd we': Counter({\"'\": 1}), \" we'\": Counter({'l': 1}), \"we'l\": Counter({'l': 1}), \"e'll\": Counter({' ': 1}), \"'ll \": Counter({'h': 1}), 'l ha': Counter({'v': 1}), ' hav': Counter({'e': 1}), 'have': Counter({' ': 1}), 'ave ': Counter({'c': 1}), 've c': Counter({'o': 1}), 'e co': Counter({'r': 1}), ' cor': Counter({'n': 1}), 'corn': Counter({' ': 1}), 'orn ': Counter({'a': 1}), 'rn a': Counter({'t': 1}), 'n at': Counter({' ': 1}), ' at ': Counter({'o': 1}), 'at o': Counter({'u': 1}), 't ou': Counter({'r': 1}), ' our': Counter({' ': 2, '\\n': 1}), 'our ': Counter({'o': 1, 'm': 1, 'p': 1}), 'ur o': Counter({'w': 1}), 'r ow': Counter({'n': 1}), ' own': Counter({' ': 1}), 'own ': Counter({'p': 1}), 'wn p': Counter({'r': 1}), 'n pr': Counter({'i': 1}), ' pri': Counter({'c': 1}), 'pric': Counter({'e': 1}), 'rice': Counter({'.': 1}), 'ice.': Counter({'\\n': 1}), 'ce.\\n': Counter({'I': 1}), 'e.\\nI': Counter({'s': 1}), '.\\nIs': Counter({\"'\": 1}), \"\\nIs'\": Counter({'t': 1}), \"Is't\": Counter({' ': 1}), \"s't \": Counter({'a': 1}), \"'t a\": Counter({' ': 1}), 't a ': Counter({'v': 1}), ' a v': Counter({'e': 1}), 'a ve': Counter({'r': 1}), ' ver': Counter({'d': 1}), 'verd': Counter({'i': 1}), 'erdi': Counter({'c': 1}), 'rdic': Counter({'t': 1}), 'dict': Counter({'?': 1}), 'ict?': Counter({'\\n': 1}), 'ct?\\n': Counter({'\\n': 1}), 't?\\n\\n': Counter({'A': 1}), 'l:\\nN': Counter({'o': 1}), ':\\nNo': Counter({' ': 1}), '\\nNo ': Counter({'m': 1}), 'No m': Counter({'o': 1}), 'o mo': Counter({'r': 1}), ' mor': Counter({'e': 1}), 'more': Counter({' ': 1}), 're t': Counter({'a': 1, 'o': 1}), 'e ta': Counter({'l': 1}), ' tal': Counter({'k': 1}), 'talk': Counter({'i': 1}), 'alki': Counter({'n': 1}), 'lkin': Counter({'g': 1}), 'king': Counter({' ': 1}), 'ing ': Counter({'o': 1}), 'ng o': Counter({'n': 1}), 'g on': Counter({\"'\": 1}), \" on'\": Counter({'t': 1}), \"on't\": Counter({';': 1}), \"n't;\": Counter({' ': 1}), \"'t; \": Counter({'l': 1}), 't; l': Counter({'e': 1}), '; le': Counter({'t': 1}), ' let': Counter({' ': 1}), 'let ': Counter({'i': 1}), 'et i': Counter({'t': 1}), 't it': Counter({' ': 1}), ' it ': Counter({'b': 1, 'w': 1}), 'it b': Counter({'e': 1}), 't be': Counter({' ': 1}), ' be ': Counter({'d': 1}), 'be d': Counter({'o': 1}), 'e do': Counter({'n': 1}), ' don': Counter({'e': 1}), 'done': Counter({':': 1}), 'one:': Counter({' ': 1}), 'ne: ': Counter({'a': 1}), 'e: a': Counter({'w': 1}), ': aw': Counter({'a': 1}), ' awa': Counter({'y': 2}), 'away': Counter({',': 1, '!': 1}), 'way,': Counter({' ': 1}), 'ay, ': Counter({'a': 1}), 'y, a': Counter({'w': 1}), ', aw': Counter({'a': 1}), 'way!': Counter({'\\n': 1}), 'ay!\\n': Counter({'\\n': 1}), 'y!\\n\\n': Counter({'S': 1}), '!\\n\\nS': Counter({'e': 1}), '\\n\\nSe': Counter({'c': 1}), '\\nSec': Counter({'o': 1}), 'Seco': Counter({'n': 1}), 'econ': Counter({'d': 1}), 'cond': Counter({' ': 1}), 'ond ': Counter({'C': 1}), 'nd C': Counter({'i': 1}), 'd Ci': Counter({'t': 1}), 'n:\\nO': Counter({'n': 1}), ':\\nOn': Counter({'e': 1}), '\\nOne': Counter({' ': 1}), 'One ': Counter({'w': 1}), 'ne w': Counter({'o': 1}), 'e wo': Counter({'r': 1}), ' wor': Counter({'d': 1}), 'word': Counter({',': 1}), 'ord,': Counter({' ': 1}), 'rd, ': Counter({'g': 1}), 'd, g': Counter({'o': 1}), ', go': Counter({'o': 1}), ' goo': Counter({'d': 2}), 'good': Counter({' ': 1, '.': 1}), 'ood ': Counter({'c': 1}), 'od c': Counter({'i': 1}), 'd ci': Counter({'t': 1}), ' cit': Counter({'i': 2}), 'citi': Counter({'z': 2}), 'zens': Counter({'.': 1, ',': 1}), 'ens.': Counter({'\\n': 1}), 'ns.\\n': Counter({'\\n': 1}), 's.\\n\\n': Counter({'F': 1}), 'n:\\nW': Counter({'e': 1}), 'We a': Counter({'r': 1}), 'e ar': Counter({'e': 2}), 'e ac': Counter({'c': 1}), ' acc': Counter({'o': 1}), 'acco': Counter({'u': 1}), 'ccou': Counter({'n': 1}), 'coun': Counter({'t': 1}), 'ount': Counter({'e': 1}), 'unte': Counter({'d': 1}), 'nted': Counter({' ': 1}), 'ted ': Counter({'p': 1}), 'ed p': Counter({'o': 1}), 'd po': Counter({'o': 1}), ' poo': Counter({'r': 1}), 'poor': Counter({' ': 1}), 'oor ': Counter({'c': 1}), 'or c': Counter({'i': 1}), 'r ci': Counter({'t': 1}), 'ens,': Counter({' ': 1}), 'ns, ': Counter({'t': 1}), 's, t': Counter({'h': 2}), ', th': Counter({'e': 2}), 'e pa': Counter({'t': 1}), ' pat': Counter({'r': 1}), 'patr': Counter({'i': 1}), 'atri': Counter({'c': 1}), 'tric': Counter({'i': 1}), 'rici': Counter({'a': 1}), 'icia': Counter({'n': 1}), 'cian': Counter({'s': 1}), 'ians': Counter({' ': 1}), 'ans ': Counter({'g': 1}), 'ns g': Counter({'o': 1}), 's go': Counter({'o': 1}), 'ood.': Counter({'\\n': 1}), 'od.\\n': Counter({'W': 1}), 'd.\\nW': Counter({'h': 1}), '.\\nWh': Counter({'a': 1}), '\\nWha': Counter({'t': 1}), 'What': Counter({' ': 1}), 'hat ': Counter({'a': 1}), 'at a': Counter({'u': 1}), 't au': Counter({'t': 1}), ' aut': Counter({'h': 1}), 'auth': Counter({'o': 1}), 'utho': Counter({'r': 1}), 'thor': Counter({'i': 1}), 'hori': Counter({'t': 1}), 'orit': Counter({'y': 1}), 'rity': Counter({' ': 1}), 'ity ': Counter({'s': 1}), 'ty s': Counter({'u': 1}), 'y su': Counter({'r': 1}), ' sur': Counter({'f': 1}), 'surf': Counter({'e': 1}), 'urfe': Counter({'i': 1}), 'rfei': Counter({'t': 1}), 'feit': Counter({'s': 1}), 'eits': Counter({' ': 1}), 'its ': Counter({'o': 1}), 'ts o': Counter({'n': 1}), 's on': Counter({' ': 1}), ' on ': Counter({'w': 1}), 'on w': Counter({'o': 1}), 'n wo': Counter({'u': 1}), ' wou': Counter({'l': 1}), 'woul': Counter({'d': 2}), 'ould': Counter({' ': 2}), 'uld ': Counter({'r': 1, 'y': 1}), 'ld r': Counter({'e': 1}), 'd re': Counter({'l': 1}), ' rel': Counter({'i': 2}), 'reli': Counter({'e': 2}), 'elie': Counter({'v': 2}), 'liev': Counter({'e': 2}), 'ieve': Counter({' ': 1, 'd': 1}), 'eve ': Counter({'u': 1}), 've u': Counter({'s': 1}), 'e us': Counter({':': 1}), ' us:': Counter({' ': 1}), 'us: ': Counter({'i': 1}), 's: i': Counter({'f': 1}), ': if': Counter({' ': 1}), ' if ': Counter({'t': 1}), 'if t': Counter({'h': 1}), 'f th': Counter({'e': 1}), 'they': Counter({' ': 2, '\\n': 1}), 'hey\\n': Counter({'w': 1}), 'ey\\nw': Counter({'o': 1}), 'y\\nwo': Counter({'u': 1}), '\\nwou': Counter({'l': 1}), 'ld y': Counter({'i': 1}), 'd yi': Counter({'e': 1}), ' yie': Counter({'l': 1}), 'yiel': Counter({'d': 1}), 'ield': Counter({' ': 1}), 'eld ': Counter({'u': 1}), 'ld u': Counter({'s': 1}), 'd us': Counter({' ': 2}), 'us b': Counter({'u': 1}), 's bu': Counter({'t': 1}), ' but': Counter({' ': 1}), 'but ': Counter({'t': 2}), 'ut t': Counter({'h': 2}), 't th': Counter({'e': 2}), 'he s': Counter({'u': 1}), 'e su': Counter({'p': 1}), ' sup': Counter({'e': 1}), 'supe': Counter({'r': 1}), 'uper': Counter({'f': 1}), 'perf': Counter({'l': 1}), 'erfl': Counter({'u': 1}), 'rflu': Counter({'i': 1}), 'flui': Counter({'t': 1}), 'luit': Counter({'y': 1}), 'uity': Counter({',': 1}), 'ity,': Counter({' ': 1}), 'ty, ': Counter({'w': 1}), 'y, w': Counter({'h': 1}), ', wh': Counter({'i': 1}), ' whi': Counter({'l': 1}), 'whil': Counter({'e': 1}), 'hile': Counter({' ': 1}), 'ile ': Counter({'i': 1}), 'le i': Counter({'t': 1}), 'e it': Counter({' ': 1}), 'it w': Counter({'e': 1}), 't we': Counter({'r': 1}), ' wer': Counter({'e': 1}), 'were': Counter({'\\n': 1}), 'ere\\n': Counter({'w': 1}), 're\\nw': Counter({'h': 1}), 'e\\nwh': Counter({'o': 1}), '\\nwho': Counter({'l': 1}), 'whol': Counter({'e': 1}), 'hole': Counter({'s': 1}), 'oles': Counter({'o': 1}), 'leso': Counter({'m': 1}), 'esom': Counter({'e': 1}), 'some': Counter({',': 1}), 'ome,': Counter({' ': 1}), 'me, ': Counter({'w': 1}), 'e, w': Counter({'e': 1}), 'we m': Counter({'i': 1}), 'e mi': Counter({'g': 1}), ' mig': Counter({'h': 1}), 'migh': Counter({'t': 1}), 'ight': Counter({' ': 1}), 'ght ': Counter({'g': 1}), 'ht g': Counter({'u': 1}), 't gu': Counter({'e': 1}), ' gue': Counter({'s': 1}), 'gues': Counter({'s': 1}), 'uess': Counter({' ': 1}), 'ess ': Counter({'t': 2}), 'ss t': Counter({'h': 2}), 's th': Counter({'e': 1, 'a': 1}), 'hey ': Counter({'r': 1, 't': 1}), 'ey r': Counter({'e': 1}), 'y re': Counter({'l': 1}), 'eved': Counter({' ': 1}), 'ed u': Counter({'s': 1}), 'us h': Counter({'u': 1}), 's hu': Counter({'m': 1}), ' hum': Counter({'a': 1}), 'huma': Counter({'n': 1}), 'uman': Counter({'e': 1}), 'mane': Counter({'l': 1}), 'anel': Counter({'y': 1}), 'nely': Counter({';': 1}), 'ely;': Counter({'\\n': 1}), 'ly;\\n': Counter({'b': 1}), 'y;\\nb': Counter({'u': 1}), ';\\nbu': Counter({'t': 1}), '\\nbut': Counter({' ': 1}), 'ey t': Counter({'h': 1}), 'y th': Counter({'i': 1}), ' thi': Counter({'s': 2, 'n': 1, 'r': 1}), 'thin': Counter({'k': 1}), 'hink': Counter({' ': 1}), 'ink ': Counter({'w': 1}), 'nk w': Counter({'e': 1}), 'k we': Counter({' ': 1}), 'we a': Counter({'r': 1}), 'e to': Counter({'o': 1}), ' too': Counter({' ': 1}), 'too ': Counter({'d': 1}), 'oo d': Counter({'e': 1}), 'o de': Counter({'a': 1}), ' dea': Counter({'r': 1}), 'dear': Counter({':': 1}), 'ear:': Counter({' ': 1}), 'ar: ': Counter({'t': 1}), 'r: t': Counter({'h': 1}), ': th': Counter({'e': 1}), 'he l': Counter({'e': 1}), 'e le': Counter({'a': 1}), ' lea': Counter({'n': 1}), 'lean': Counter({'n': 1}), 'eann': Counter({'e': 1}), 'anne': Counter({'s': 1}), 'nnes': Counter({'s': 1}), 'ness': Counter({' ': 1}), 'that': Counter({'\\n': 1}), 'hat\\n': Counter({'a': 1}), 'at\\na': Counter({'f': 1}), 't\\naf': Counter({'f': 1}), '\\naff': Counter({'l': 1}), 'affl': Counter({'i': 1}), 'ffli': Counter({'c': 1}), 'flic': Counter({'t': 1}), 'lict': Counter({'s': 1}), 'icts': Counter({' ': 1}), 'cts ': Counter({'u': 1}), 'ts u': Counter({'s': 1}), 's us': Counter({',': 1}), ' us,': Counter({' ': 1}), 'us, ': Counter({'t': 1}), 'he o': Counter({'b': 1}), 'e ob': Counter({'j': 1}), ' obj': Counter({'e': 1}), 'obje': Counter({'c': 1}), 'bjec': Counter({'t': 1}), 'ject': Counter({' ': 1}), 'ect ': Counter({'o': 1}), 'ct o': Counter({'f': 1}), 't of': Counter({' ': 1}), ' of ': Counter({'o': 1}), 'of o': Counter({'u': 1}), 'f ou': Counter({'r': 1}), 'ur m': Counter({'i': 1}), 'r mi': Counter({'s': 1}), ' mis': Counter({'e': 1}), 'mise': Counter({'r': 1}), 'iser': Counter({'y': 1}), 'sery': Counter({',': 1}), 'ery,': Counter({' ': 1}), 'ry, ': Counter({'i': 1}), 'y, i': Counter({'s': 1}), ', is': Counter({' ': 1}), 'is a': Counter({'s': 1, ' ': 1}), 's as': Counter({' ': 1}), ' as ': Counter({'a': 1}), 'as a': Counter({'n': 1}), 's an': Counter({'\\n': 1}), ' an\\n': Counter({'i': 1}), 'an\\ni': Counter({'n': 1}), 'n\\nin': Counter({'v': 1}), '\\ninv': Counter({'e': 1}), 'inve': Counter({'n': 1}), 'nven': Counter({'t': 1}), 'vent': Counter({'o': 1}), 'ento': Counter({'r': 1}), 'ntor': Counter({'y': 1}), 'tory': Counter({' ': 1}), 'ory ': Counter({'t': 1}), 'ry t': Counter({'o': 1}), 'to p': Counter({'a': 1}), 'o pa': Counter({'r': 1}), ' par': Counter({'t': 1}), 'part': Counter({'i': 1}), 'arti': Counter({'c': 1}), 'rtic': Counter({'u': 1}), 'ticu': Counter({'l': 1}), 'icul': Counter({'a': 1}), 'cula': Counter({'r': 1}), 'ular': Counter({'i': 1}), 'lari': Counter({'s': 1}), 'aris': Counter({'e': 1}), 'rise': Counter({' ': 1}), 'ise ': Counter({'t': 1}), 'se t': Counter({'h': 1}), 'thei': Counter({'r': 1}), 'heir': Counter({' ': 1}), 'eir ': Counter({'a': 1}), 'ir a': Counter({'b': 1}), 'r ab': Counter({'u': 1}), ' abu': Counter({'n': 1}), 'abun': Counter({'d': 1}), 'bund': Counter({'a': 1}), 'unda': Counter({'n': 1}), 'ndan': Counter({'c': 1}), 'danc': Counter({'e': 1}), 'ance': Counter({';': 1, ' ': 1}), 'nce;': Counter({' ': 1}), 'ce; ': Counter({'o': 1}), 'e; o': Counter({'u': 1}), '; ou': Counter({'r': 1}), 'our\\n': Counter({'s': 1}), 'ur\\ns': Counter({'u': 1}), 'r\\nsu': Counter({'f': 1}), '\\nsuf': Counter({'f': 1}), 'suff': Counter({'e': 1}), 'uffe': Counter({'r': 1}), 'ffer': Counter({'a': 1}), 'fera': Counter({'n': 1}), 'eran': Counter({'c': 1}), 'ranc': Counter({'e': 1}), 'nce ': Counter({'i': 1}), 'ce i': Counter({'s': 1}), 'e is': Counter({' ': 1}), 's a ': Counter({'g': 1}), ' a g': Counter({'a': 1}), 'a ga': Counter({'i': 1}), ' gai': Counter({'n': 1}), 'gain': Counter({' ': 1}), 'ain ': Counter({'t': 1}), 'in t': Counter({'o': 1, 'h': 1}), 'them': Counter({' ': 1}), 'hem ': Counter({'L': 1}), 'em L': Counter({'e': 1}), 'm Le': Counter({'t': 1}), ' Let': Counter({' ': 1}), 'us r': Counter({'e': 1}), 's re': Counter({'v': 1}), ' rev': Counter({'e': 2}), 'reve': Counter({'n': 2}), 'even': Counter({'g': 2}), 'veng': Counter({'e': 2}), 'enge': Counter({' ': 1, '.': 1}), 'nge ': Counter({'t': 1}), 'ge t': Counter({'h': 1}), 'this': Counter({' ': 2}), 'his ': Counter({'w': 1, 'i': 1}), 'is w': Counter({'i': 1}), 's wi': Counter({'t': 1}), ' wit': Counter({'h': 1}), 'with': Counter({'\\n': 1}), 'ith\\n': Counter({'o': 1}), 'th\\no': Counter({'u': 1}), 'h\\nou': Counter({'r': 1}), '\\nour': Counter({' ': 1}), 'ur p': Counter({'i': 1}), 'r pi': Counter({'k': 1}), ' pik': Counter({'e': 1}), 'pike': Counter({'s': 1}), 'ikes': Counter({',': 1}), 'kes,': Counter({' ': 1}), 'es, ': Counter({'e': 1}), 's, e': Counter({'r': 1}), ', er': Counter({'e': 1}), ' ere': Counter({' ': 1}), 'ere ': Counter({'w': 1}), 'we b': Counter({'e': 1}), 'e be': Counter({'c': 1}), ' bec': Counter({'o': 1}), 'beco': Counter({'m': 1}), 'ecom': Counter({'e': 1}), 'come': Counter({' ': 1}), 'ome ': Counter({'r': 1}), 'me r': Counter({'a': 1}), 'e ra': Counter({'k': 1}), ' rak': Counter({'e': 1}), 'rake': Counter({'s': 1}), 'akes': Counter({':': 1}), 'kes:': Counter({' ': 1}), 'es: ': Counter({'f': 1}), 's: f': Counter({'o': 1}), ': fo': Counter({'r': 1}), ' for': Counter({' ': 3}), 'for ': Counter({'t': 1, 'b': 1, 'r': 1}), 'or t': Counter({'h': 1}), 'r th': Counter({'e': 1}), 'he g': Counter({'o': 1}), 'e go': Counter({'d': 1}), ' god': Counter({'s': 1}), 'gods': Counter({' ': 1}), 'ods ': Counter({'k': 1}), 'ds k': Counter({'n': 1}), 's kn': Counter({'o': 1}), 'ow I': Counter({'\\n': 1}), 'w I\\n': Counter({'s': 1}), ' I\\ns': Counter({'p': 1}), 'I\\nsp': Counter({'e': 1}), '\\nspe': Counter({'a': 1}), 'eak ': Counter({'t': 1}), 'ak t': Counter({'h': 1}), 'k th': Counter({'i': 1}), 'is i': Counter({'n': 1}), 's in': Counter({' ': 1}), ' in ': Counter({'h': 1, 't': 1}), 'in h': Counter({'u': 1}), 'n hu': Counter({'n': 1}), ' hun': Counter({'g': 1}), 'hung': Counter({'e': 1}), 'unge': Counter({'r': 1}), 'nger': Counter({' ': 1}), 'ger ': Counter({'f': 1}), 'er f': Counter({'o': 1}), 'r fo': Counter({'r': 1}), 'or b': Counter({'r': 1}), 'r br': Counter({'e': 1}), ' bre': Counter({'a': 1}), 'brea': Counter({'d': 1}), 'read': Counter({',': 1}), 'ead,': Counter({' ': 1}), 'ad, ': Counter({'n': 1}), 'd, n': Counter({'o': 1}), ', no': Counter({'t': 1}), ' not': Counter({' ': 1}), 'not ': Counter({'i': 1}), 'ot i': Counter({'n': 1}), 't in': Counter({' ': 1}), 'n th': Counter({'i': 1}), 'thir': Counter({'s': 1}), 'hirs': Counter({'t': 1}), 'st f': Counter({'o': 1}), 't fo': Counter({'r': 1}), 'or r': Counter({'e': 1}), 'r re': Counter({'v': 1}), 'nge.': Counter({'\\n': 1})})\n"
     ]
    }
   ],
   "source": [
    "print(result)"
   ]
  },
  {
   "cell_type": "code",
   "execution_count": 9,
   "metadata": {},
   "outputs": [],
   "source": [
    "def normalize(counter):\n",
    "    s = float(sum(counter.values()))\n",
    "    return [(c,cnt/s) for c,cnt in counter.items()]"
   ]
  },
  {
   "cell_type": "code",
   "execution_count": 11,
   "metadata": {},
   "outputs": [],
   "source": [
    "outlm = {hist:normalize(chars) for hist, chars in result.items()}"
   ]
  },
  {
   "cell_type": "code",
   "execution_count": 26,
   "metadata": {
    "scrolled": false
   },
   "outputs": [
    {
     "name": "stdout",
     "output_type": "stream",
     "text": [
      "{'~~~~': [('~', 0.8), ('\\n', 0.2)], '~~~\\n': [('F', 1.0)], '~~\\nF': [('i', 1.0)], '~\\nFi': [('r', 1.0)], '\\nFir': [('s', 1.0)], 'Firs': [('t', 1.0)], 'irst': [(' ', 0.8571428571428571), (',', 0.14285714285714285)], 'rst ': [('C', 0.8333333333333334), ('f', 0.16666666666666666)], 'st C': [('i', 1.0)], 't Ci': [('t', 1.0)], ' Cit': [('i', 1.0)], 'Citi': [('z', 1.0)], 'itiz': [('e', 1.0)], 'tize': [('n', 1.0)], 'izen': [(':', 0.75), ('s', 0.25)], 'zen:': [('\\n', 1.0)], 'en:\\n': [('B', 0.16666666666666666), ('Y', 0.16666666666666666), ('F', 0.16666666666666666), ('L', 0.16666666666666666), ('O', 0.16666666666666666), ('W', 0.16666666666666666)], 'n:\\nB': [('e', 1.0)], ':\\nBe': [('f', 1.0)], '\\nBef': [('o', 1.0)], 'Befo': [('r', 1.0)], 'efor': [('e', 1.0)], 'fore': [(' ', 1.0)], 'ore ': [('w', 0.5), ('t', 0.5)], 're w': [('e', 1.0)], 'e we': [(' ', 1.0)], ' we ': [('p', 0.2), ('k', 0.2), ('m', 0.2), ('a', 0.2), ('b', 0.2)], 'we p': [('r', 1.0)], 'e pr': [('o', 1.0)], ' pro': [('c', 1.0)], 'proc': [('e', 1.0)], 'roce': [('e', 1.0)], 'ocee': [('d', 1.0)], 'ceed': [(' ', 1.0)], 'eed ': [('a', 1.0)], 'ed a': [('n', 1.0)], 'd an': [('y', 1.0)], ' any': [(' ', 1.0)], 'any ': [('f', 1.0)], 'ny f': [('u', 1.0)], 'y fu': [('r', 1.0)], ' fur': [('t', 1.0)], 'furt': [('h', 1.0)], 'urth': [('e', 1.0)], 'rthe': [('r', 1.0)], 'ther': [(',', 0.5), (' ', 0.5)], 'her,': [(' ', 1.0)], 'er, ': [('h', 1.0)], 'r, h': [('e', 1.0)], ', he': [('a', 1.0)], ' hea': [('r', 1.0)], 'hear': [(' ', 1.0)], 'ear ': [('m', 1.0)], 'ar m': [('e', 1.0)], 'r me': [(' ', 1.0)], ' me ': [('s', 1.0)], 'me s': [('p', 1.0)], 'e sp': [('e', 1.0)], ' spe': [('a', 1.0)], 'spea': [('k', 1.0)], 'peak': [('.', 0.5), (',', 0.25), (' ', 0.25)], 'eak.': [('\\n', 1.0)], 'ak.\\n': [('\\n', 1.0)], 'k.\\n\\n': [('A', 0.5), ('F', 0.5)], '.\\n\\nA': [('l', 1.0)], '\\n\\nAl': [('l', 1.0)], '\\nAll': [(':', 1.0)], 'All:': [('\\n', 1.0)], 'll:\\n': [('S', 0.25), ('R', 0.25), ('W', 0.25), ('N', 0.25)], 'l:\\nS': [('p', 1.0)], ':\\nSp': [('e', 1.0)], '\\nSpe': [('a', 1.0)], 'Spea': [('k', 1.0)], 'eak,': [(' ', 1.0)], 'ak, ': [('s', 1.0)], 'k, s': [('p', 1.0)], ', sp': [('e', 1.0)], '.\\n\\nF': [('i', 1.0)], '\\n\\nFi': [('r', 1.0)], 'n:\\nY': [('o', 1.0)], ':\\nYo': [('u', 1.0)], '\\nYou': [(' ', 1.0)], 'You ': [('a', 1.0)], 'ou a': [('r', 1.0)], 'u ar': [('e', 1.0)], ' are': [(' ', 1.0)], 'are ': [('a', 0.6666666666666666), ('t', 0.3333333333333333)], 're a': [('l', 0.5), ('c', 0.5)], 'e al': [('l', 1.0)], ' all': [(' ', 1.0)], 'all ': [('r', 1.0)], 'll r': [('e', 1.0)], 'l re': [('s', 1.0)], ' res': [('o', 1.0)], 'reso': [('l', 1.0)], 'esol': [('v', 1.0)], 'solv': [('e', 1.0)], 'olve': [('d', 1.0)], 'lved': [(' ', 0.3333333333333333), ('.', 0.6666666666666666)], 'ved ': [('r', 0.5), ('u', 0.5)], 'ed r': [('a', 1.0)], 'd ra': [('t', 1.0)], ' rat': [('h', 1.0)], 'rath': [('e', 1.0)], 'athe': [('r', 1.0)], 'her ': [('t', 1.0)], 'er t': [('o', 1.0)], 'r to': [(' ', 1.0)], ' to ': [('d', 0.2), ('f', 0.2), ('t', 0.4), ('p', 0.2)], 'to d': [('i', 1.0)], 'o di': [('e', 1.0)], ' die': [(' ', 1.0)], 'die ': [('t', 1.0)], 'ie t': [('h', 1.0)], 'e th': [('a', 0.3333333333333333), ('e', 0.3333333333333333), ('i', 0.3333333333333333)], ' tha': [('n', 0.5), ('t', 0.5)], 'than': [(' ', 1.0)], 'han ': [('t', 1.0)], 'an t': [('o', 1.0)], 'n to': [(' ', 1.0)], 'to f': [('a', 1.0)], 'o fa': [('m', 1.0)], ' fam': [('i', 1.0)], 'fami': [('s', 1.0)], 'amis': [('h', 1.0)], 'mish': [('?', 1.0)], 'ish?': [('\\n', 1.0)], 'sh?\\n': [('\\n', 1.0)], 'h?\\n\\n': [('A', 1.0)], '?\\n\\nA': [('l', 1.0)], 'l:\\nR': [('e', 1.0)], ':\\nRe': [('s', 1.0)], '\\nRes': [('o', 1.0)], 'Reso': [('l', 1.0)], 'ved.': [(' ', 0.5), ('\\n', 0.5)], 'ed. ': [('r', 1.0)], 'd. r': [('e', 1.0)], '. re': [('s', 1.0)], 'ed.\\n': [('\\n', 1.0)], 'd.\\n\\n': [('F', 1.0)], 'n:\\nF': [('i', 1.0)], ':\\nFi': [('r', 1.0)], 'rst,': [(' ', 1.0)], 'st, ': [('y', 1.0)], 't, y': [('o', 1.0)], ', yo': [('u', 1.0)], ' you': [(' ', 1.0)], 'you ': [('k', 1.0)], 'ou k': [('n', 1.0)], 'u kn': [('o', 1.0)], ' kno': [('w', 1.0)], 'know': [(' ', 0.5), (\"'\", 0.5)], 'now ': [('C', 0.5), ('I', 0.5)], 'ow C': [('a', 1.0)], 'w Ca': [('i', 1.0)], ' Cai': [('u', 1.0)], 'Caiu': [('s', 1.0)], 'aius': [(' ', 1.0)], 'ius ': [('M', 0.5), ('i', 0.5)], 'us M': [('a', 1.0)], 's Ma': [('r', 1.0)], ' Mar': [('c', 1.0)], 'Marc': [('i', 1.0)], 'arci': [('u', 1.0)], 'rciu': [('s', 1.0)], 'cius': [(' ', 1.0)], 'us i': [('s', 1.0)], 's is': [(' ', 1.0)], ' is ': [('c', 0.3333333333333333), ('a', 0.6666666666666666)], 'is c': [('h', 1.0)], 's ch': [('i', 1.0)], ' chi': [('e', 1.0)], 'chie': [('f', 1.0)], 'hief': [(' ', 1.0)], 'ief ': [('e', 1.0)], 'ef e': [('n', 1.0)], 'f en': [('e', 1.0)], ' ene': [('m', 1.0)], 'enem': [('y', 1.0)], 'nemy': [(' ', 1.0)], 'emy ': [('t', 1.0)], 'my t': [('o', 1.0)], 'y to': [(' ', 1.0)], 'to t': [('h', 1.0)], 'o th': [('e', 1.0)], ' the': [(' ', 0.5454545454545454), ('y', 0.2727272727272727), ('i', 0.09090909090909091), ('m', 0.09090909090909091)], 'the ': [('p', 0.3333333333333333), ('s', 0.16666666666666666), ('l', 0.16666666666666666), ('o', 0.16666666666666666), ('g', 0.16666666666666666)], 'he p': [('e', 0.5), ('a', 0.5)], 'e pe': [('o', 1.0)], ' peo': [('p', 1.0)], 'peop': [('l', 1.0)], 'eopl': [('e', 1.0)], 'ople': [('.', 1.0)], 'ple.': [('\\n', 1.0)], 'le.\\n': [('\\n', 1.0)], 'e.\\n\\n': [('A', 1.0)], 'l:\\nW': [('e', 1.0)], ':\\nWe': [(' ', 1.0)], '\\nWe ': [('k', 0.5), ('a', 0.5)], 'We k': [('n', 1.0)], 'e kn': [('o', 1.0)], \"now'\": [('t', 1.0)], \"ow't\": [(',', 0.5), ('.', 0.5)], \"w't,\": [(' ', 1.0)], \"'t, \": [('w', 1.0)], 't, w': [('e', 1.0)], ', we': [(' ', 1.0)], 'we k': [('n', 1.0)], \"w't.\": [('\\n', 1.0)], \"'t.\\n\": [('\\n', 1.0)], 't.\\n\\n': [('F', 1.0)], 'n:\\nL': [('e', 1.0)], ':\\nLe': [('t', 1.0)], '\\nLet': [(' ', 1.0)], 'Let ': [('u', 1.0)], 'et u': [('s', 1.0)], 't us': [(' ', 1.0)], ' us ': [('k', 0.25), ('b', 0.25), ('h', 0.25), ('r', 0.25)], 'us k': [('i', 1.0)], 's ki': [('l', 1.0)], ' kil': [('l', 1.0)], 'kill': [(' ', 1.0)], 'ill ': [('h', 1.0)], 'll h': [('i', 0.5), ('a', 0.5)], 'l hi': [('m', 1.0)], ' him': [(',', 1.0)], 'him,': [(' ', 1.0)], 'im, ': [('a', 1.0)], 'm, a': [('n', 1.0)], ', an': [('d', 1.0)], ' and': [(' ', 1.0)], 'and ': [('w', 1.0)], 'nd w': [('e', 1.0)], 'd we': [(\"'\", 1.0)], \" we'\": [('l', 1.0)], \"we'l\": [('l', 1.0)], \"e'll\": [(' ', 1.0)], \"'ll \": [('h', 1.0)], 'l ha': [('v', 1.0)], ' hav': [('e', 1.0)], 'have': [(' ', 1.0)], 'ave ': [('c', 1.0)], 've c': [('o', 1.0)], 'e co': [('r', 1.0)], ' cor': [('n', 1.0)], 'corn': [(' ', 1.0)], 'orn ': [('a', 1.0)], 'rn a': [('t', 1.0)], 'n at': [(' ', 1.0)], ' at ': [('o', 1.0)], 'at o': [('u', 1.0)], 't ou': [('r', 1.0)], ' our': [(' ', 0.6666666666666666), ('\\n', 0.3333333333333333)], 'our ': [('o', 0.3333333333333333), ('m', 0.3333333333333333), ('p', 0.3333333333333333)], 'ur o': [('w', 1.0)], 'r ow': [('n', 1.0)], ' own': [(' ', 1.0)], 'own ': [('p', 1.0)], 'wn p': [('r', 1.0)], 'n pr': [('i', 1.0)], ' pri': [('c', 1.0)], 'pric': [('e', 1.0)], 'rice': [('.', 1.0)], 'ice.': [('\\n', 1.0)], 'ce.\\n': [('I', 1.0)], 'e.\\nI': [('s', 1.0)], '.\\nIs': [(\"'\", 1.0)], \"\\nIs'\": [('t', 1.0)], \"Is't\": [(' ', 1.0)], \"s't \": [('a', 1.0)], \"'t a\": [(' ', 1.0)], 't a ': [('v', 1.0)], ' a v': [('e', 1.0)], 'a ve': [('r', 1.0)], ' ver': [('d', 1.0)], 'verd': [('i', 1.0)], 'erdi': [('c', 1.0)], 'rdic': [('t', 1.0)], 'dict': [('?', 1.0)], 'ict?': [('\\n', 1.0)], 'ct?\\n': [('\\n', 1.0)], 't?\\n\\n': [('A', 1.0)], 'l:\\nN': [('o', 1.0)], ':\\nNo': [(' ', 1.0)], '\\nNo ': [('m', 1.0)], 'No m': [('o', 1.0)], 'o mo': [('r', 1.0)], ' mor': [('e', 1.0)], 'more': [(' ', 1.0)], 're t': [('a', 0.5), ('o', 0.5)], 'e ta': [('l', 1.0)], ' tal': [('k', 1.0)], 'talk': [('i', 1.0)], 'alki': [('n', 1.0)], 'lkin': [('g', 1.0)], 'king': [(' ', 1.0)], 'ing ': [('o', 1.0)], 'ng o': [('n', 1.0)], 'g on': [(\"'\", 1.0)], \" on'\": [('t', 1.0)], \"on't\": [(';', 1.0)], \"n't;\": [(' ', 1.0)], \"'t; \": [('l', 1.0)], 't; l': [('e', 1.0)], '; le': [('t', 1.0)], ' let': [(' ', 1.0)], 'let ': [('i', 1.0)], 'et i': [('t', 1.0)], 't it': [(' ', 1.0)], ' it ': [('b', 0.5), ('w', 0.5)], 'it b': [('e', 1.0)], 't be': [(' ', 1.0)], ' be ': [('d', 1.0)], 'be d': [('o', 1.0)], 'e do': [('n', 1.0)], ' don': [('e', 1.0)], 'done': [(':', 1.0)], 'one:': [(' ', 1.0)], 'ne: ': [('a', 1.0)], 'e: a': [('w', 1.0)], ': aw': [('a', 1.0)], ' awa': [('y', 1.0)], 'away': [(',', 0.5), ('!', 0.5)], 'way,': [(' ', 1.0)], 'ay, ': [('a', 1.0)], 'y, a': [('w', 1.0)], ', aw': [('a', 1.0)], 'way!': [('\\n', 1.0)], 'ay!\\n': [('\\n', 1.0)], 'y!\\n\\n': [('S', 1.0)], '!\\n\\nS': [('e', 1.0)], '\\n\\nSe': [('c', 1.0)], '\\nSec': [('o', 1.0)], 'Seco': [('n', 1.0)], 'econ': [('d', 1.0)], 'cond': [(' ', 1.0)], 'ond ': [('C', 1.0)], 'nd C': [('i', 1.0)], 'd Ci': [('t', 1.0)], 'n:\\nO': [('n', 1.0)], ':\\nOn': [('e', 1.0)], '\\nOne': [(' ', 1.0)], 'One ': [('w', 1.0)], 'ne w': [('o', 1.0)], 'e wo': [('r', 1.0)], ' wor': [('d', 1.0)], 'word': [(',', 1.0)], 'ord,': [(' ', 1.0)], 'rd, ': [('g', 1.0)], 'd, g': [('o', 1.0)], ', go': [('o', 1.0)], ' goo': [('d', 1.0)], 'good': [(' ', 0.5), ('.', 0.5)], 'ood ': [('c', 1.0)], 'od c': [('i', 1.0)], 'd ci': [('t', 1.0)], ' cit': [('i', 1.0)], 'citi': [('z', 1.0)], 'zens': [('.', 0.5), (',', 0.5)], 'ens.': [('\\n', 1.0)], 'ns.\\n': [('\\n', 1.0)], 's.\\n\\n': [('F', 1.0)], 'n:\\nW': [('e', 1.0)], 'We a': [('r', 1.0)], 'e ar': [('e', 1.0)], 'e ac': [('c', 1.0)], ' acc': [('o', 1.0)], 'acco': [('u', 1.0)], 'ccou': [('n', 1.0)], 'coun': [('t', 1.0)], 'ount': [('e', 1.0)], 'unte': [('d', 1.0)], 'nted': [(' ', 1.0)], 'ted ': [('p', 1.0)], 'ed p': [('o', 1.0)], 'd po': [('o', 1.0)], ' poo': [('r', 1.0)], 'poor': [(' ', 1.0)], 'oor ': [('c', 1.0)], 'or c': [('i', 1.0)], 'r ci': [('t', 1.0)], 'ens,': [(' ', 1.0)], 'ns, ': [('t', 1.0)], 's, t': [('h', 1.0)], ', th': [('e', 1.0)], 'e pa': [('t', 1.0)], ' pat': [('r', 1.0)], 'patr': [('i', 1.0)], 'atri': [('c', 1.0)], 'tric': [('i', 1.0)], 'rici': [('a', 1.0)], 'icia': [('n', 1.0)], 'cian': [('s', 1.0)], 'ians': [(' ', 1.0)], 'ans ': [('g', 1.0)], 'ns g': [('o', 1.0)], 's go': [('o', 1.0)], 'ood.': [('\\n', 1.0)], 'od.\\n': [('W', 1.0)], 'd.\\nW': [('h', 1.0)], '.\\nWh': [('a', 1.0)], '\\nWha': [('t', 1.0)], 'What': [(' ', 1.0)], 'hat ': [('a', 1.0)], 'at a': [('u', 1.0)], 't au': [('t', 1.0)], ' aut': [('h', 1.0)], 'auth': [('o', 1.0)], 'utho': [('r', 1.0)], 'thor': [('i', 1.0)], 'hori': [('t', 1.0)], 'orit': [('y', 1.0)], 'rity': [(' ', 1.0)], 'ity ': [('s', 1.0)], 'ty s': [('u', 1.0)], 'y su': [('r', 1.0)], ' sur': [('f', 1.0)], 'surf': [('e', 1.0)], 'urfe': [('i', 1.0)], 'rfei': [('t', 1.0)], 'feit': [('s', 1.0)], 'eits': [(' ', 1.0)], 'its ': [('o', 1.0)], 'ts o': [('n', 1.0)], 's on': [(' ', 1.0)], ' on ': [('w', 1.0)], 'on w': [('o', 1.0)], 'n wo': [('u', 1.0)], ' wou': [('l', 1.0)], 'woul': [('d', 1.0)], 'ould': [(' ', 1.0)], 'uld ': [('r', 0.5), ('y', 0.5)], 'ld r': [('e', 1.0)], 'd re': [('l', 1.0)], ' rel': [('i', 1.0)], 'reli': [('e', 1.0)], 'elie': [('v', 1.0)], 'liev': [('e', 1.0)], 'ieve': [(' ', 0.5), ('d', 0.5)], 'eve ': [('u', 1.0)], 've u': [('s', 1.0)], 'e us': [(':', 1.0)], ' us:': [(' ', 1.0)], 'us: ': [('i', 1.0)], 's: i': [('f', 1.0)], ': if': [(' ', 1.0)], ' if ': [('t', 1.0)], 'if t': [('h', 1.0)], 'f th': [('e', 1.0)], 'they': [('\\n', 0.3333333333333333), (' ', 0.6666666666666666)], 'hey\\n': [('w', 1.0)], 'ey\\nw': [('o', 1.0)], 'y\\nwo': [('u', 1.0)], '\\nwou': [('l', 1.0)], 'ld y': [('i', 1.0)], 'd yi': [('e', 1.0)], ' yie': [('l', 1.0)], 'yiel': [('d', 1.0)], 'ield': [(' ', 1.0)], 'eld ': [('u', 1.0)], 'ld u': [('s', 1.0)], 'd us': [(' ', 1.0)], 'us b': [('u', 1.0)], 's bu': [('t', 1.0)], ' but': [(' ', 1.0)], 'but ': [('t', 1.0)], 'ut t': [('h', 1.0)], 't th': [('e', 1.0)], 'he s': [('u', 1.0)], 'e su': [('p', 1.0)], ' sup': [('e', 1.0)], 'supe': [('r', 1.0)], 'uper': [('f', 1.0)], 'perf': [('l', 1.0)], 'erfl': [('u', 1.0)], 'rflu': [('i', 1.0)], 'flui': [('t', 1.0)], 'luit': [('y', 1.0)], 'uity': [(',', 1.0)], 'ity,': [(' ', 1.0)], 'ty, ': [('w', 1.0)], 'y, w': [('h', 1.0)], ', wh': [('i', 1.0)], ' whi': [('l', 1.0)], 'whil': [('e', 1.0)], 'hile': [(' ', 1.0)], 'ile ': [('i', 1.0)], 'le i': [('t', 1.0)], 'e it': [(' ', 1.0)], 'it w': [('e', 1.0)], 't we': [('r', 1.0)], ' wer': [('e', 1.0)], 'were': [('\\n', 1.0)], 'ere\\n': [('w', 1.0)], 're\\nw': [('h', 1.0)], 'e\\nwh': [('o', 1.0)], '\\nwho': [('l', 1.0)], 'whol': [('e', 1.0)], 'hole': [('s', 1.0)], 'oles': [('o', 1.0)], 'leso': [('m', 1.0)], 'esom': [('e', 1.0)], 'some': [(',', 1.0)], 'ome,': [(' ', 1.0)], 'me, ': [('w', 1.0)], 'e, w': [('e', 1.0)], 'we m': [('i', 1.0)], 'e mi': [('g', 1.0)], ' mig': [('h', 1.0)], 'migh': [('t', 1.0)], 'ight': [(' ', 1.0)], 'ght ': [('g', 1.0)], 'ht g': [('u', 1.0)], 't gu': [('e', 1.0)], ' gue': [('s', 1.0)], 'gues': [('s', 1.0)], 'uess': [(' ', 1.0)], 'ess ': [('t', 1.0)], 'ss t': [('h', 1.0)], 's th': [('e', 0.5), ('a', 0.5)], 'hey ': [('r', 0.5), ('t', 0.5)], 'ey r': [('e', 1.0)], 'y re': [('l', 1.0)], 'eved': [(' ', 1.0)], 'ed u': [('s', 1.0)], 'us h': [('u', 1.0)], 's hu': [('m', 1.0)], ' hum': [('a', 1.0)], 'huma': [('n', 1.0)], 'uman': [('e', 1.0)], 'mane': [('l', 1.0)], 'anel': [('y', 1.0)], 'nely': [(';', 1.0)], 'ely;': [('\\n', 1.0)], 'ly;\\n': [('b', 1.0)], 'y;\\nb': [('u', 1.0)], ';\\nbu': [('t', 1.0)], '\\nbut': [(' ', 1.0)], 'ey t': [('h', 1.0)], 'y th': [('i', 1.0)], ' thi': [('n', 0.25), ('s', 0.5), ('r', 0.25)], 'thin': [('k', 1.0)], 'hink': [(' ', 1.0)], 'ink ': [('w', 1.0)], 'nk w': [('e', 1.0)], 'k we': [(' ', 1.0)], 'we a': [('r', 1.0)], 'e to': [('o', 1.0)], ' too': [(' ', 1.0)], 'too ': [('d', 1.0)], 'oo d': [('e', 1.0)], 'o de': [('a', 1.0)], ' dea': [('r', 1.0)], 'dear': [(':', 1.0)], 'ear:': [(' ', 1.0)], 'ar: ': [('t', 1.0)], 'r: t': [('h', 1.0)], ': th': [('e', 1.0)], 'he l': [('e', 1.0)], 'e le': [('a', 1.0)], ' lea': [('n', 1.0)], 'lean': [('n', 1.0)], 'eann': [('e', 1.0)], 'anne': [('s', 1.0)], 'nnes': [('s', 1.0)], 'ness': [(' ', 1.0)], 'that': [('\\n', 1.0)], 'hat\\n': [('a', 1.0)], 'at\\na': [('f', 1.0)], 't\\naf': [('f', 1.0)], '\\naff': [('l', 1.0)], 'affl': [('i', 1.0)], 'ffli': [('c', 1.0)], 'flic': [('t', 1.0)], 'lict': [('s', 1.0)], 'icts': [(' ', 1.0)], 'cts ': [('u', 1.0)], 'ts u': [('s', 1.0)], 's us': [(',', 1.0)], ' us,': [(' ', 1.0)], 'us, ': [('t', 1.0)], 'he o': [('b', 1.0)], 'e ob': [('j', 1.0)], ' obj': [('e', 1.0)], 'obje': [('c', 1.0)], 'bjec': [('t', 1.0)], 'ject': [(' ', 1.0)], 'ect ': [('o', 1.0)], 'ct o': [('f', 1.0)], 't of': [(' ', 1.0)], ' of ': [('o', 1.0)], 'of o': [('u', 1.0)], 'f ou': [('r', 1.0)], 'ur m': [('i', 1.0)], 'r mi': [('s', 1.0)], ' mis': [('e', 1.0)], 'mise': [('r', 1.0)], 'iser': [('y', 1.0)], 'sery': [(',', 1.0)], 'ery,': [(' ', 1.0)], 'ry, ': [('i', 1.0)], 'y, i': [('s', 1.0)], ', is': [(' ', 1.0)], 'is a': [('s', 0.5), (' ', 0.5)], 's as': [(' ', 1.0)], ' as ': [('a', 1.0)], 'as a': [('n', 1.0)], 's an': [('\\n', 1.0)], ' an\\n': [('i', 1.0)], 'an\\ni': [('n', 1.0)], 'n\\nin': [('v', 1.0)], '\\ninv': [('e', 1.0)], 'inve': [('n', 1.0)], 'nven': [('t', 1.0)], 'vent': [('o', 1.0)], 'ento': [('r', 1.0)], 'ntor': [('y', 1.0)], 'tory': [(' ', 1.0)], 'ory ': [('t', 1.0)], 'ry t': [('o', 1.0)], 'to p': [('a', 1.0)], 'o pa': [('r', 1.0)], ' par': [('t', 1.0)], 'part': [('i', 1.0)], 'arti': [('c', 1.0)], 'rtic': [('u', 1.0)], 'ticu': [('l', 1.0)], 'icul': [('a', 1.0)], 'cula': [('r', 1.0)], 'ular': [('i', 1.0)], 'lari': [('s', 1.0)], 'aris': [('e', 1.0)], 'rise': [(' ', 1.0)], 'ise ': [('t', 1.0)], 'se t': [('h', 1.0)], 'thei': [('r', 1.0)], 'heir': [(' ', 1.0)], 'eir ': [('a', 1.0)], 'ir a': [('b', 1.0)], 'r ab': [('u', 1.0)], ' abu': [('n', 1.0)], 'abun': [('d', 1.0)], 'bund': [('a', 1.0)], 'unda': [('n', 1.0)], 'ndan': [('c', 1.0)], 'danc': [('e', 1.0)], 'ance': [(';', 0.5), (' ', 0.5)], 'nce;': [(' ', 1.0)], 'ce; ': [('o', 1.0)], 'e; o': [('u', 1.0)], '; ou': [('r', 1.0)], 'our\\n': [('s', 1.0)], 'ur\\ns': [('u', 1.0)], 'r\\nsu': [('f', 1.0)], '\\nsuf': [('f', 1.0)], 'suff': [('e', 1.0)], 'uffe': [('r', 1.0)], 'ffer': [('a', 1.0)], 'fera': [('n', 1.0)], 'eran': [('c', 1.0)], 'ranc': [('e', 1.0)], 'nce ': [('i', 1.0)], 'ce i': [('s', 1.0)], 'e is': [(' ', 1.0)], 's a ': [('g', 1.0)], ' a g': [('a', 1.0)], 'a ga': [('i', 1.0)], ' gai': [('n', 1.0)], 'gain': [(' ', 1.0)], 'ain ': [('t', 1.0)], 'in t': [('o', 0.5), ('h', 0.5)], 'them': [(' ', 1.0)], 'hem ': [('L', 1.0)], 'em L': [('e', 1.0)], 'm Le': [('t', 1.0)], ' Let': [(' ', 1.0)], 'us r': [('e', 1.0)], 's re': [('v', 1.0)], ' rev': [('e', 1.0)], 'reve': [('n', 1.0)], 'even': [('g', 1.0)], 'veng': [('e', 1.0)], 'enge': [(' ', 0.5), ('.', 0.5)], 'nge ': [('t', 1.0)], 'ge t': [('h', 1.0)], 'this': [(' ', 1.0)], 'his ': [('w', 0.5), ('i', 0.5)], 'is w': [('i', 1.0)], 's wi': [('t', 1.0)], ' wit': [('h', 1.0)], 'with': [('\\n', 1.0)], 'ith\\n': [('o', 1.0)], 'th\\no': [('u', 1.0)], 'h\\nou': [('r', 1.0)], '\\nour': [(' ', 1.0)], 'ur p': [('i', 1.0)], 'r pi': [('k', 1.0)], ' pik': [('e', 1.0)], 'pike': [('s', 1.0)], 'ikes': [(',', 1.0)], 'kes,': [(' ', 1.0)], 'es, ': [('e', 1.0)], 's, e': [('r', 1.0)], ', er': [('e', 1.0)], ' ere': [(' ', 1.0)], 'ere ': [('w', 1.0)], 'we b': [('e', 1.0)], 'e be': [('c', 1.0)], ' bec': [('o', 1.0)], 'beco': [('m', 1.0)], 'ecom': [('e', 1.0)], 'come': [(' ', 1.0)], 'ome ': [('r', 1.0)], 'me r': [('a', 1.0)], 'e ra': [('k', 1.0)], ' rak': [('e', 1.0)], 'rake': [('s', 1.0)], 'akes': [(':', 1.0)], 'kes:': [(' ', 1.0)], 'es: ': [('f', 1.0)], 's: f': [('o', 1.0)], ': fo': [('r', 1.0)], ' for': [(' ', 1.0)], 'for ': [('t', 0.3333333333333333), ('b', 0.3333333333333333), ('r', 0.3333333333333333)], 'or t': [('h', 1.0)], 'r th': [('e', 1.0)], 'he g': [('o', 1.0)], 'e go': [('d', 1.0)], ' god': [('s', 1.0)], 'gods': [(' ', 1.0)], 'ods ': [('k', 1.0)], 'ds k': [('n', 1.0)], 's kn': [('o', 1.0)], 'ow I': [('\\n', 1.0)], 'w I\\n': [('s', 1.0)], ' I\\ns': [('p', 1.0)], 'I\\nsp': [('e', 1.0)], '\\nspe': [('a', 1.0)], 'eak ': [('t', 1.0)], 'ak t': [('h', 1.0)], 'k th': [('i', 1.0)], 'is i': [('n', 1.0)], 's in': [(' ', 1.0)], ' in ': [('h', 0.5), ('t', 0.5)], 'in h': [('u', 1.0)], 'n hu': [('n', 1.0)], ' hun': [('g', 1.0)], 'hung': [('e', 1.0)], 'unge': [('r', 1.0)], 'nger': [(' ', 1.0)], 'ger ': [('f', 1.0)], 'er f': [('o', 1.0)], 'r fo': [('r', 1.0)], 'or b': [('r', 1.0)], 'r br': [('e', 1.0)], ' bre': [('a', 1.0)], 'brea': [('d', 1.0)], 'read': [(',', 1.0)], 'ead,': [(' ', 1.0)], 'ad, ': [('n', 1.0)], 'd, n': [('o', 1.0)], ', no': [('t', 1.0)], ' not': [(' ', 1.0)], 'not ': [('i', 1.0)], 'ot i': [('n', 1.0)], 't in': [(' ', 1.0)], 'n th': [('i', 1.0)], 'thir': [('s', 1.0)], 'hirs': [('t', 1.0)], 'st f': [('o', 1.0)], 't fo': [('r', 1.0)], 'or r': [('e', 1.0)], 'r re': [('v', 1.0)], 'nge.': [('\\n', 1.0)]}\n"
     ]
    }
   ],
   "source": [
    "print(outlm)"
   ]
  },
  {
   "cell_type": "code",
   "execution_count": 27,
   "metadata": {},
   "outputs": [],
   "source": [
    "\n",
    "def train_char_lm(fname, order=4):\n",
    "    with open(fname) as f:\n",
    "        data = f.read()\n",
    "\n",
    "    lm = defaultdict(Counter)\n",
    "    pad = \"~\" * order\n",
    "    data = pad + data\n",
    "    for i in range(len(data)-order):\n",
    "        history, char = data[i:i+order], data[i+order]\n",
    "        lm[history][char]+=1\n",
    "    def normalize(counter):\n",
    "        s = float(sum(counter.values()))\n",
    "        return [(c,cnt/s) for c,cnt in counter.items()]\n",
    "    outlm = {hist:normalize(chars) for hist, chars in lm.items()}\n",
    "    return outlm"
   ]
  },
  {
   "cell_type": "code",
   "execution_count": null,
   "metadata": {},
   "outputs": [],
   "source": []
  },
  {
   "cell_type": "code",
   "execution_count": null,
   "metadata": {},
   "outputs": [],
   "source": []
  },
  {
   "cell_type": "markdown",
   "metadata": {},
   "source": [
    "Let's train it on Andrej's Shakespears's text:"
   ]
  },
  {
   "cell_type": "code",
   "execution_count": 28,
   "metadata": {},
   "outputs": [
    {
     "name": "stdout",
     "output_type": "stream",
     "text": [
      "URL transformed to HTTPS due to an HSTS policy\n",
      "--2019-08-06 19:22:36--  https://cs.stanford.edu/people/karpathy/char-rnn/shakespeare_input.txt\n",
      "Resolving cs.stanford.edu (cs.stanford.edu)... 171.64.64.64\n",
      "Connecting to cs.stanford.edu (cs.stanford.edu)|171.64.64.64|:443... connected.\n",
      "HTTP request sent, awaiting response... 200 OK\n",
      "Length: 4573338 (4.4M) [text/plain]\n",
      "Saving to: ‘shakespeare_input.txt.1’\n",
      "\n",
      "shakespeare_input.t 100%[===================>]   4.36M  4.37MB/s    in 1.0s    \n",
      "\n",
      "2019-08-06 19:22:38 (4.37 MB/s) - ‘shakespeare_input.txt.1’ saved [4573338/4573338]\n",
      "\n"
     ]
    }
   ],
   "source": [
    "#!wget http://cs.stanford.edu/people/karpathy/char-rnn/shakespeare_input.txt"
   ]
  },
  {
   "cell_type": "code",
   "execution_count": 29,
   "metadata": {},
   "outputs": [],
   "source": [
    "lm = train_char_lm(\"shakespeare_input.txt\", order=4)"
   ]
  },
  {
   "cell_type": "markdown",
   "metadata": {},
   "source": [
    "Ok. Now let's do some queries:"
   ]
  },
  {
   "cell_type": "code",
   "execution_count": 16,
   "metadata": {},
   "outputs": [
    {
     "data": {
      "text/plain": [
       "[('r', 0.059625212947189095),\n",
       " ('w', 0.817717206132879),\n",
       " ('u', 0.03747870528109029),\n",
       " (',', 0.027257240204429302),\n",
       " (' ', 0.013628620102214651),\n",
       " ('.', 0.0068143100511073255),\n",
       " ('?', 0.0068143100511073255),\n",
       " (':', 0.005110732538330494),\n",
       " ('n', 0.0017035775127768314),\n",
       " (\"'\", 0.017035775127768313),\n",
       " ('!', 0.0068143100511073255)]"
      ]
     },
     "execution_count": 16,
     "metadata": {},
     "output_type": "execute_result"
    }
   ],
   "source": [
    "lm['ello']"
   ]
  },
  {
   "cell_type": "code",
   "execution_count": 17,
   "metadata": {},
   "outputs": [
    {
     "data": {
      "text/plain": [
       "[('t', 1.0)]"
      ]
     },
     "execution_count": 17,
     "metadata": {},
     "output_type": "execute_result"
    }
   ],
   "source": [
    "lm['Firs']"
   ]
  },
  {
   "cell_type": "code",
   "execution_count": 18,
   "metadata": {},
   "outputs": [
    {
     "data": {
      "text/plain": [
       "[('C', 0.09550561797752809),\n",
       " ('f', 0.011235955056179775),\n",
       " ('i', 0.016853932584269662),\n",
       " ('t', 0.05377207062600321),\n",
       " ('u', 0.0016051364365971107),\n",
       " ('S', 0.16292134831460675),\n",
       " ('h', 0.019261637239165328),\n",
       " ('s', 0.03290529695024077),\n",
       " ('R', 0.0008025682182985554),\n",
       " ('b', 0.024879614767255216),\n",
       " ('c', 0.012841091492776886),\n",
       " ('O', 0.018459069020866775),\n",
       " ('w', 0.024077046548956663),\n",
       " ('a', 0.02247191011235955),\n",
       " ('m', 0.02247191011235955),\n",
       " ('n', 0.020064205457463884),\n",
       " ('I', 0.009630818619582664),\n",
       " ('L', 0.10674157303370786),\n",
       " ('M', 0.0593900481540931),\n",
       " ('l', 0.01043338683788122),\n",
       " ('o', 0.030497592295345103),\n",
       " ('H', 0.0040128410914927765),\n",
       " ('d', 0.015248796147672551),\n",
       " ('W', 0.033707865168539325),\n",
       " ('K', 0.008025682182985553),\n",
       " ('q', 0.0016051364365971107),\n",
       " ('G', 0.0898876404494382),\n",
       " ('g', 0.011235955056179775),\n",
       " ('k', 0.0040128410914927765),\n",
       " ('e', 0.0032102728731942215),\n",
       " ('y', 0.002407704654895666),\n",
       " ('r', 0.0072231139646869984),\n",
       " ('p', 0.00882825040128411),\n",
       " ('A', 0.0056179775280898875),\n",
       " ('P', 0.014446227929373997),\n",
       " ('F', 0.012038523274478331),\n",
       " ('v', 0.002407704654895666),\n",
       " ('T', 0.0032102728731942215),\n",
       " ('D', 0.0032102728731942215),\n",
       " ('B', 0.009630818619582664),\n",
       " ('N', 0.0008025682182985554),\n",
       " (\"'\", 0.0008025682182985554),\n",
       " ('E', 0.0016051364365971107)]"
      ]
     },
     "execution_count": 18,
     "metadata": {},
     "output_type": "execute_result"
    }
   ],
   "source": [
    "lm['rst ']"
   ]
  },
  {
   "cell_type": "code",
   "execution_count": null,
   "metadata": {},
   "outputs": [],
   "source": []
  },
  {
   "cell_type": "markdown",
   "metadata": {},
   "source": [
    "So `ello` is followed by either space, punctuation or `w` (or `r`, `u`, `n`), `Firs` is pretty much deterministic, and the word following `ist ` can start with pretty much every letter."
   ]
  },
  {
   "cell_type": "markdown",
   "metadata": {},
   "source": [
    "### Generating from the model\n",
    "Generating is also very simple. To generate a letter, we will take the history, look at the last $order$ characteters, and then sample a random letter based on the corresponding distribution."
   ]
  },
  {
   "cell_type": "code",
   "execution_count": 20,
   "metadata": {},
   "outputs": [
    {
     "name": "stdout",
     "output_type": "stream",
     "text": [
      "~~~~\n",
      "~~~~\n"
     ]
    }
   ],
   "source": [
    "order = 4\n",
    "history = \"~\" * order\n",
    "print(history)\n",
    "print(history[-order:])"
   ]
  },
  {
   "cell_type": "code",
   "execution_count": 25,
   "metadata": {},
   "outputs": [
    {
     "name": "stdout",
     "output_type": "stream",
     "text": [
      "~\n"
     ]
    }
   ],
   "source": [
    "print(history[-4])"
   ]
  },
  {
   "cell_type": "code",
   "execution_count": null,
   "metadata": {},
   "outputs": [],
   "source": []
  },
  {
   "cell_type": "code",
   "execution_count": 14,
   "metadata": {},
   "outputs": [],
   "source": [
    "from random import random\n",
    "\n",
    "def generate_letter(lm, history, order):\n",
    "        history = history[-order:]\n",
    "        dist = lm[history]\n",
    "        x = random()\n",
    "        for c,v in dist:\n",
    "            x = x - v\n",
    "            if x <= 0: return c"
   ]
  },
  {
   "cell_type": "markdown",
   "metadata": {},
   "source": [
    "To generate a passage of $k$ characters, we just seed it with the initial history and run letter generation in a loop, updating the history at each turn."
   ]
  },
  {
   "cell_type": "code",
   "execution_count": 15,
   "metadata": {},
   "outputs": [],
   "source": [
    "def generate_text(lm, order, nletters=1000):\n",
    "    history = \"~\" * order\n",
    "    out = []\n",
    "    for i in range(nletters):\n",
    "        c = generate_letter(lm, history, order)\n",
    "        history = history[-order:] + c\n",
    "        out.append(c)\n",
    "    return \"\".join(out)"
   ]
  },
  {
   "cell_type": "markdown",
   "metadata": {},
   "source": [
    "### Generated Shakespeare from different order models\n",
    "\n",
    "Let's try to generate text based on different language-model orders. Let's start with something silly:\n",
    "\n",
    "### order 2:"
   ]
  },
  {
   "cell_type": "code",
   "execution_count": 24,
   "metadata": {},
   "outputs": [
    {
     "name": "stdout",
     "output_type": "stream",
     "text": [
      "Fir?\n",
      "\n",
      "KINIO:\n",
      "'And tre's of th st.\n",
      "Use ofand froo:\n",
      "Wit whis HENRY:\n",
      "'Amord fore youlnestaiust lof nige\n",
      "All; wid stak your ded gromercur an\n",
      "That up-ey on mins this my\n",
      "To and anty youly hin you\n",
      "Thar,\n",
      "I th by froilesterce, awlet strint husir, yould,\n",
      "I doe. Yourlike ned.\n",
      "Mur careavoy peastesese frectus, I sh lethe fiet reat inglin hipposeetter hoares can: be I se:\n",
      "Yout grom theas vion.\n",
      "\n",
      "LO:\n",
      "Yout of to-ad so, ve.\n",
      "\n",
      "But\n",
      "SIMONTERINCELEOPHENCE:\n",
      "Antlesse! onews haver,\n",
      "LUEENRY Brothe th se\n",
      "fet,\n",
      "That unt of Conwou sin she reones!\n",
      "\n",
      "Folesteno my hall ardeventlendear wathand gend I me siout ithathe se drave tanclaceirew in of mou king, if the then digus faid beed,\n",
      "To his thery for shous dis masictake tre the thands is whis hould hee? I he the sted\n",
      "Whis his,\n",
      "TUS:\n",
      "Why pithes begnot ifeet was'tir a th my divere.\n",
      "\n",
      "BET:\n",
      "Badiagank her. To halreve low nue, anty le ague, by, counhaver tappres ing prow themonforded. Hart, caus,\n",
      "And park, JOHN:\n",
      "And awbold my grou cre em; hishal deassuch, ford,\n",
      "HARDICKLY:\n",
      "I witat\n"
     ]
    }
   ],
   "source": [
    "lm = train_char_lm(\"shakespeare_input.txt\", order=2)\n",
    "print(generate_text(lm, 2))"
   ]
  },
  {
   "cell_type": "code",
   "execution_count": null,
   "metadata": {},
   "outputs": [],
   "source": []
  },
  {
   "cell_type": "markdown",
   "metadata": {},
   "source": [
    "Not so great.. but what if we increase the order to 4?\n",
    "\n",
    "### order 4"
   ]
  },
  {
   "cell_type": "code",
   "execution_count": 25,
   "metadata": {},
   "outputs": [
    {
     "name": "stdout",
     "output_type": "stream",
     "text": [
      "First robe!\n",
      "And no greated in whose love?\n",
      "\n",
      "ROMEO:\n",
      "Sir, lecondition. No, What not; who, and by there, that still, you benefits colourse times our long of for heel:\n",
      "By when and, and he's exceed. Come, letter;\n",
      "Give godson his thee, Cassio:\n",
      "And, look! most eart thou will.\n",
      "Let thank love the change savoury at that see Colour. Know to be more marveth but for my mistress made that is favour England but to me bless done and married; when to a poor\n",
      "And turn.\n",
      "\n",
      "SALA:\n",
      "My prince, mortals, do not to righter of and hopelessess' chain, you country that is\n",
      "A lipping best he times\n",
      "All it will.\n",
      "Companio! in Suffolk fort's a wretch, sir. I send upon\n",
      "justice his hoster bless, Forth story:\n",
      "No, no bound examplexion.\n",
      "Safer good man a bather and uncolt out ear, I says of hourself,\n",
      "That, intend yet among fault an of kind? Moves he his was held my cannot as father sour, thou said the never my he how to my death shall be shall\n",
      "Unwill burr! varlets! I say you--of and victor all i' the kind\n",
      "Hath my month of his for\n"
     ]
    }
   ],
   "source": [
    "lm = train_char_lm(\"shakespeare_input.txt\", order=4)\n",
    "print(generate_text(lm, 4))"
   ]
  },
  {
   "cell_type": "code",
   "execution_count": 26,
   "metadata": {},
   "outputs": [
    {
     "name": "stdout",
     "output_type": "stream",
     "text": [
      "First, how into the shallow.\n",
      "\n",
      "FRIAR LAURENCE:\n",
      "In the must them son better\n",
      "apple,\n",
      "Touch of provost?\n",
      "\n",
      "PAROLLES:\n",
      "Here I will the empest,\n",
      "Each ye when hath night it in your gentler, I may she day note appare to it is a moiety consult themselves man, unlike thank thou fall\n",
      "To one.\n",
      "\n",
      "LAUNCE:\n",
      "My will proofs out, anon, so evasive most be for my chance! why I, thout with you on these could in thy ament will her is nature, Jove that are is a not soldier me, shalt happily pardolph and expect of those phrase;\n",
      "And shall my kneel do leavens she close\n",
      "With repair?\n",
      "\n",
      "KING LEAR:\n",
      "No, no and queen's unhappy to not a brothere,\n",
      "whisperate a sweet flies a good drink.\n",
      "Murder, he been your paid inciation your calus, like a hundred; and, and thou and Elizabething day I have west thou not part be sun,\n",
      "From quite, weeping.\n",
      "O Bucking vow\n",
      "Forgot be well throat.\n",
      "\n",
      "FALSTAFF:\n",
      "'Farewell speak ope thing in nighty call thers?\n",
      "\n",
      "PROTEUS:\n",
      "With agains lion the false?\n",
      "\n",
      "ADRIANA:\n",
      "Wherefore to-morrosition\n",
      "The should thee is no to \n"
     ]
    }
   ],
   "source": [
    "lm = train_char_lm(\"shakespeare_input.txt\", order=4)\n",
    "print(generate_text(lm, 4))"
   ]
  },
  {
   "cell_type": "code",
   "execution_count": null,
   "metadata": {},
   "outputs": [],
   "source": []
  },
  {
   "cell_type": "markdown",
   "metadata": {},
   "source": [
    "This is already quite reasonable, and reads like English. Just 4 letters history! What if we increase it to 7?\n",
    "\n",
    "### order 7"
   ]
  },
  {
   "cell_type": "code",
   "execution_count": 27,
   "metadata": {},
   "outputs": [
    {
     "name": "stdout",
     "output_type": "stream",
     "text": [
      "First Carrier:\n",
      "I though the fruits that the admitted.\n",
      "\n",
      "CANIDIUS:\n",
      "My charged with him Prince of disability may more,\n",
      "Full surfeit of use.\n",
      "\n",
      "GOWER:\n",
      "No; fifteen years\n",
      "Of Lewis and I promised: yet look more of melting of them.\n",
      "\n",
      "HAMLET:\n",
      "How came to me,\n",
      "With no rash and taken from you\n",
      "He had recovered slave!\n",
      "\n",
      "DUCHESS:\n",
      "Yet you twain\n",
      "Did she cross-garter'd murder'd Pompey.\n",
      "\n",
      "PORTIA:\n",
      "To offence herself to lack sons.\n",
      "\n",
      "METELLUS CIMBER:\n",
      "O, do yet but you do?\n",
      "\n",
      "KENT:\n",
      "What a place\n",
      "Of generally, mine hast but man, in hand,\n",
      "True swain: he is enough: this poor isle and come where you were best.\n",
      "\n",
      "KATHARINA:\n",
      "I saw him for my heart wept blood, I did love,\n",
      "And I proceed.\n",
      "\n",
      "ISABELLA:\n",
      "O wonder'd this day\n",
      "To these with Caesar follow bias-drawing darest thy chamber-doors.\n",
      "\n",
      "ALENCON:\n",
      "Leave your swords forbid I should possess'd your suit\n",
      "In giving in love is me to these lazy knave!\n",
      "Come not concern'd man your virtue, you are wives. I will\n",
      "do his kinsman, she is.\n",
      "\n",
      "Sexton:\n",
      "Which hold?\n",
      "\n",
      "LUCIO:\n",
      "Thou almost mortality is r\n"
     ]
    }
   ],
   "source": [
    "lm = train_char_lm(\"shakespeare_input.txt\", order=7)\n",
    "print(generate_text(lm, 7))"
   ]
  },
  {
   "cell_type": "code",
   "execution_count": null,
   "metadata": {
    "collapsed": true
   },
   "outputs": [],
   "source": []
  },
  {
   "cell_type": "markdown",
   "metadata": {},
   "source": [
    "### How about 10?"
   ]
  },
  {
   "cell_type": "code",
   "execution_count": 28,
   "metadata": {},
   "outputs": [
    {
     "name": "stdout",
     "output_type": "stream",
     "text": [
      "First Citizen:\n",
      "Your belly's answer? What!\n",
      "The king is my love!\n",
      "\n",
      "OLIVIA:\n",
      "Your lordship.\n",
      "\n",
      "PAROLLES:\n",
      "This is Illyria, lady.\n",
      "\n",
      "VIOLA:\n",
      "Dear lady,--\n",
      "\n",
      "OLIVIA:\n",
      "'Tis in grain, sir; 'twill away toward Dover, do it for ancient castle;\n",
      "Through bog, through want of speaking!\n",
      "Thou, old Adam's likeness, I do well; there's no converting of 'em: now\n",
      "An honest tale speeds best being pluck'd from myself and them\n",
      "To some man else:\n",
      "The world against thee by Jove's side. Yet come again to Venice. Waste no time in words,\n",
      "Brags of him\n",
      "To be my children. Here\n",
      "they come to reprehend him: abominable and bad.\n",
      "\n",
      "AEMELIA:\n",
      "Be quiet, or--More light, more light and within; let me alone with him and tell her she is much credit to you.\n",
      "\n",
      "ANGELO:\n",
      "Nay, I'll help thee to pay thee plenteous bosom: the very pin of his horror! Ring the beast lived, was killed with remorse,\n",
      "That it runs out.\n",
      "\n",
      "ROSS:\n",
      "You must perforce he could not\n",
      "say he lied?\n",
      "\n",
      "ARIEL:\n",
      "No.\n",
      "\n",
      "PROTEUS:\n",
      "Than men their way: I eyed them\n",
      "Even to the view; in their births g\n"
     ]
    }
   ],
   "source": [
    "lm = train_char_lm(\"shakespeare_input.txt\", order=10)\n",
    "print(generate_text(lm, 10))"
   ]
  },
  {
   "cell_type": "markdown",
   "metadata": {},
   "source": [
    "### This works pretty well\n",
    "\n",
    "With an order of 4, we already get quite reasonable results. Increasing the order to 7 (~word and a half of history) or 10 (~two short words of history) already gets us quite passable Shakepearan text. I'd say it is on par with the examples in Andrej's post. And how simple and un-mystical the model is!"
   ]
  },
  {
   "cell_type": "markdown",
   "metadata": {},
   "source": [
    "### So why am I impressed with the RNNs after all?\n",
    "\n",
    "Generating English a character at a time -- not so impressive in my view. The RNN needs to learn the previous $n$ letters, for a rather small $n$, and that's it. \n",
    "\n",
    "However, the code-generation example is very impressive. Why? because of the context awareness. Note that in all of the posted examples, the code is well indented, the braces and brackets are correctly nested, and even the comments start and end correctly. This is not something that can be achieved by simply looking at the previous $n$ letters. \n",
    "\n",
    "If the examples are not cherry-picked, and the output is generally that nice, then the LSTM did learn something not trivial at all.\n",
    "\n",
    "Just for the fun of it, let's see what our simple language model does with the linux-kernel code:"
   ]
  },
  {
   "cell_type": "code",
   "execution_count": 29,
   "metadata": {},
   "outputs": [
    {
     "name": "stdout",
     "output_type": "stream",
     "text": [
      "URL transformed to HTTPS due to an HSTS policy\n",
      "--2019-08-03 19:20:28--  https://cs.stanford.edu/people/karpathy/char-rnn/linux_input.txt\n",
      "Resolving cs.stanford.edu (cs.stanford.edu)... 171.64.64.64\n",
      "Connecting to cs.stanford.edu (cs.stanford.edu)|171.64.64.64|:443... connected.\n",
      "HTTP request sent, awaiting response... 200 OK\n",
      "Length: 6206996 (5.9M) [text/plain]\n",
      "Saving to: ‘linux_input.txt’\n",
      "\n",
      "linux_input.txt     100%[===================>]   5.92M  3.95MB/s    in 1.5s    \n",
      "\n",
      "2019-08-03 19:20:30 (3.95 MB/s) - ‘linux_input.txt’ saved [6206996/6206996]\n",
      "\n"
     ]
    }
   ],
   "source": [
    "!wget http://cs.stanford.edu/people/karpathy/char-rnn/linux_input.txt"
   ]
  },
  {
   "cell_type": "code",
   "execution_count": 31,
   "metadata": {},
   "outputs": [
    {
     "ename": "UnicodeDecodeError",
     "evalue": "'utf-8' codec can't decode byte 0xa9 in position 5809090: invalid start byte",
     "output_type": "error",
     "traceback": [
      "\u001b[0;31m---------------------------------------------------------------------------\u001b[0m",
      "\u001b[0;31mUnicodeDecodeError\u001b[0m                        Traceback (most recent call last)",
      "\u001b[0;32m<ipython-input-31-5895268f4e5f>\u001b[0m in \u001b[0;36m<module>\u001b[0;34m\u001b[0m\n\u001b[0;32m----> 1\u001b[0;31m \u001b[0mlm\u001b[0m \u001b[0;34m=\u001b[0m \u001b[0mtrain_char_lm\u001b[0m\u001b[0;34m(\u001b[0m\u001b[0;34m\"linux_input.txt\"\u001b[0m\u001b[0;34m,\u001b[0m \u001b[0morder\u001b[0m\u001b[0;34m=\u001b[0m\u001b[0;36m10\u001b[0m\u001b[0;34m)\u001b[0m\u001b[0;34m\u001b[0m\u001b[0;34m\u001b[0m\u001b[0m\n\u001b[0m\u001b[1;32m      2\u001b[0m \u001b[0mprint\u001b[0m\u001b[0;34m(\u001b[0m\u001b[0mgenerate_text\u001b[0m\u001b[0;34m(\u001b[0m\u001b[0mlm\u001b[0m\u001b[0;34m,\u001b[0m \u001b[0;36m10\u001b[0m\u001b[0;34m)\u001b[0m\u001b[0;34m)\u001b[0m\u001b[0;34m\u001b[0m\u001b[0;34m\u001b[0m\u001b[0m\n",
      "\u001b[0;32m<ipython-input-14-91a29bcb1290>\u001b[0m in \u001b[0;36mtrain_char_lm\u001b[0;34m(fname, order)\u001b[0m\n\u001b[1;32m      3\u001b[0m \u001b[0;32mdef\u001b[0m \u001b[0mtrain_char_lm\u001b[0m\u001b[0;34m(\u001b[0m\u001b[0mfname\u001b[0m\u001b[0;34m,\u001b[0m \u001b[0morder\u001b[0m\u001b[0;34m=\u001b[0m\u001b[0;36m4\u001b[0m\u001b[0;34m)\u001b[0m\u001b[0;34m:\u001b[0m\u001b[0;34m\u001b[0m\u001b[0;34m\u001b[0m\u001b[0m\n\u001b[1;32m      4\u001b[0m     \u001b[0;32mwith\u001b[0m \u001b[0mopen\u001b[0m\u001b[0;34m(\u001b[0m\u001b[0mfname\u001b[0m\u001b[0;34m)\u001b[0m \u001b[0;32mas\u001b[0m \u001b[0mf\u001b[0m\u001b[0;34m:\u001b[0m\u001b[0;34m\u001b[0m\u001b[0;34m\u001b[0m\u001b[0m\n\u001b[0;32m----> 5\u001b[0;31m         \u001b[0mdata\u001b[0m \u001b[0;34m=\u001b[0m \u001b[0mf\u001b[0m\u001b[0;34m.\u001b[0m\u001b[0mread\u001b[0m\u001b[0;34m(\u001b[0m\u001b[0;34m)\u001b[0m\u001b[0;34m\u001b[0m\u001b[0;34m\u001b[0m\u001b[0m\n\u001b[0m\u001b[1;32m      6\u001b[0m \u001b[0;34m\u001b[0m\u001b[0m\n\u001b[1;32m      7\u001b[0m     \u001b[0mlm\u001b[0m \u001b[0;34m=\u001b[0m \u001b[0mdefaultdict\u001b[0m\u001b[0;34m(\u001b[0m\u001b[0mCounter\u001b[0m\u001b[0;34m)\u001b[0m\u001b[0;34m\u001b[0m\u001b[0;34m\u001b[0m\u001b[0m\n",
      "\u001b[0;32m/Library/Frameworks/Python.framework/Versions/3.6/lib/python3.6/codecs.py\u001b[0m in \u001b[0;36mdecode\u001b[0;34m(self, input, final)\u001b[0m\n\u001b[1;32m    319\u001b[0m         \u001b[0;31m# decode input (taking the buffer into account)\u001b[0m\u001b[0;34m\u001b[0m\u001b[0;34m\u001b[0m\u001b[0;34m\u001b[0m\u001b[0m\n\u001b[1;32m    320\u001b[0m         \u001b[0mdata\u001b[0m \u001b[0;34m=\u001b[0m \u001b[0mself\u001b[0m\u001b[0;34m.\u001b[0m\u001b[0mbuffer\u001b[0m \u001b[0;34m+\u001b[0m \u001b[0minput\u001b[0m\u001b[0;34m\u001b[0m\u001b[0;34m\u001b[0m\u001b[0m\n\u001b[0;32m--> 321\u001b[0;31m         \u001b[0;34m(\u001b[0m\u001b[0mresult\u001b[0m\u001b[0;34m,\u001b[0m \u001b[0mconsumed\u001b[0m\u001b[0;34m)\u001b[0m \u001b[0;34m=\u001b[0m \u001b[0mself\u001b[0m\u001b[0;34m.\u001b[0m\u001b[0m_buffer_decode\u001b[0m\u001b[0;34m(\u001b[0m\u001b[0mdata\u001b[0m\u001b[0;34m,\u001b[0m \u001b[0mself\u001b[0m\u001b[0;34m.\u001b[0m\u001b[0merrors\u001b[0m\u001b[0;34m,\u001b[0m \u001b[0mfinal\u001b[0m\u001b[0;34m)\u001b[0m\u001b[0;34m\u001b[0m\u001b[0;34m\u001b[0m\u001b[0m\n\u001b[0m\u001b[1;32m    322\u001b[0m         \u001b[0;31m# keep undecoded input until the next call\u001b[0m\u001b[0;34m\u001b[0m\u001b[0;34m\u001b[0m\u001b[0;34m\u001b[0m\u001b[0m\n\u001b[1;32m    323\u001b[0m         \u001b[0mself\u001b[0m\u001b[0;34m.\u001b[0m\u001b[0mbuffer\u001b[0m \u001b[0;34m=\u001b[0m \u001b[0mdata\u001b[0m\u001b[0;34m[\u001b[0m\u001b[0mconsumed\u001b[0m\u001b[0;34m:\u001b[0m\u001b[0;34m]\u001b[0m\u001b[0;34m\u001b[0m\u001b[0;34m\u001b[0m\u001b[0m\n",
      "\u001b[0;31mUnicodeDecodeError\u001b[0m: 'utf-8' codec can't decode byte 0xa9 in position 5809090: invalid start byte"
     ]
    }
   ],
   "source": [
    "lm = train_char_lm(\"linux_input.txt\", order=10)\n",
    "print(generate_text(lm, 10))"
   ]
  },
  {
   "cell_type": "code",
   "execution_count": 32,
   "metadata": {},
   "outputs": [
    {
     "ename": "UnicodeDecodeError",
     "evalue": "'utf-8' codec can't decode byte 0xa9 in position 5809090: invalid start byte",
     "output_type": "error",
     "traceback": [
      "\u001b[0;31m---------------------------------------------------------------------------\u001b[0m",
      "\u001b[0;31mUnicodeDecodeError\u001b[0m                        Traceback (most recent call last)",
      "\u001b[0;32m<ipython-input-32-950eddf5d03c>\u001b[0m in \u001b[0;36m<module>\u001b[0;34m\u001b[0m\n\u001b[0;32m----> 1\u001b[0;31m \u001b[0mlm\u001b[0m \u001b[0;34m=\u001b[0m \u001b[0mtrain_char_lm\u001b[0m\u001b[0;34m(\u001b[0m\u001b[0;34m\"linux_input.txt\"\u001b[0m\u001b[0;34m,\u001b[0m \u001b[0morder\u001b[0m\u001b[0;34m=\u001b[0m\u001b[0;36m15\u001b[0m\u001b[0;34m)\u001b[0m\u001b[0;34m\u001b[0m\u001b[0;34m\u001b[0m\u001b[0m\n\u001b[0m\u001b[1;32m      2\u001b[0m \u001b[0mprint\u001b[0m\u001b[0;34m(\u001b[0m\u001b[0mgenerate_text\u001b[0m\u001b[0;34m(\u001b[0m\u001b[0mlm\u001b[0m\u001b[0;34m,\u001b[0m \u001b[0;36m15\u001b[0m\u001b[0;34m)\u001b[0m\u001b[0;34m)\u001b[0m\u001b[0;34m\u001b[0m\u001b[0;34m\u001b[0m\u001b[0m\n",
      "\u001b[0;32m<ipython-input-14-91a29bcb1290>\u001b[0m in \u001b[0;36mtrain_char_lm\u001b[0;34m(fname, order)\u001b[0m\n\u001b[1;32m      3\u001b[0m \u001b[0;32mdef\u001b[0m \u001b[0mtrain_char_lm\u001b[0m\u001b[0;34m(\u001b[0m\u001b[0mfname\u001b[0m\u001b[0;34m,\u001b[0m \u001b[0morder\u001b[0m\u001b[0;34m=\u001b[0m\u001b[0;36m4\u001b[0m\u001b[0;34m)\u001b[0m\u001b[0;34m:\u001b[0m\u001b[0;34m\u001b[0m\u001b[0;34m\u001b[0m\u001b[0m\n\u001b[1;32m      4\u001b[0m     \u001b[0;32mwith\u001b[0m \u001b[0mopen\u001b[0m\u001b[0;34m(\u001b[0m\u001b[0mfname\u001b[0m\u001b[0;34m)\u001b[0m \u001b[0;32mas\u001b[0m \u001b[0mf\u001b[0m\u001b[0;34m:\u001b[0m\u001b[0;34m\u001b[0m\u001b[0;34m\u001b[0m\u001b[0m\n\u001b[0;32m----> 5\u001b[0;31m         \u001b[0mdata\u001b[0m \u001b[0;34m=\u001b[0m \u001b[0mf\u001b[0m\u001b[0;34m.\u001b[0m\u001b[0mread\u001b[0m\u001b[0;34m(\u001b[0m\u001b[0;34m)\u001b[0m\u001b[0;34m\u001b[0m\u001b[0;34m\u001b[0m\u001b[0m\n\u001b[0m\u001b[1;32m      6\u001b[0m \u001b[0;34m\u001b[0m\u001b[0m\n\u001b[1;32m      7\u001b[0m     \u001b[0mlm\u001b[0m \u001b[0;34m=\u001b[0m \u001b[0mdefaultdict\u001b[0m\u001b[0;34m(\u001b[0m\u001b[0mCounter\u001b[0m\u001b[0;34m)\u001b[0m\u001b[0;34m\u001b[0m\u001b[0;34m\u001b[0m\u001b[0m\n",
      "\u001b[0;32m/Library/Frameworks/Python.framework/Versions/3.6/lib/python3.6/codecs.py\u001b[0m in \u001b[0;36mdecode\u001b[0;34m(self, input, final)\u001b[0m\n\u001b[1;32m    319\u001b[0m         \u001b[0;31m# decode input (taking the buffer into account)\u001b[0m\u001b[0;34m\u001b[0m\u001b[0;34m\u001b[0m\u001b[0;34m\u001b[0m\u001b[0m\n\u001b[1;32m    320\u001b[0m         \u001b[0mdata\u001b[0m \u001b[0;34m=\u001b[0m \u001b[0mself\u001b[0m\u001b[0;34m.\u001b[0m\u001b[0mbuffer\u001b[0m \u001b[0;34m+\u001b[0m \u001b[0minput\u001b[0m\u001b[0;34m\u001b[0m\u001b[0;34m\u001b[0m\u001b[0m\n\u001b[0;32m--> 321\u001b[0;31m         \u001b[0;34m(\u001b[0m\u001b[0mresult\u001b[0m\u001b[0;34m,\u001b[0m \u001b[0mconsumed\u001b[0m\u001b[0;34m)\u001b[0m \u001b[0;34m=\u001b[0m \u001b[0mself\u001b[0m\u001b[0;34m.\u001b[0m\u001b[0m_buffer_decode\u001b[0m\u001b[0;34m(\u001b[0m\u001b[0mdata\u001b[0m\u001b[0;34m,\u001b[0m \u001b[0mself\u001b[0m\u001b[0;34m.\u001b[0m\u001b[0merrors\u001b[0m\u001b[0;34m,\u001b[0m \u001b[0mfinal\u001b[0m\u001b[0;34m)\u001b[0m\u001b[0;34m\u001b[0m\u001b[0;34m\u001b[0m\u001b[0m\n\u001b[0m\u001b[1;32m    322\u001b[0m         \u001b[0;31m# keep undecoded input until the next call\u001b[0m\u001b[0;34m\u001b[0m\u001b[0;34m\u001b[0m\u001b[0;34m\u001b[0m\u001b[0m\n\u001b[1;32m    323\u001b[0m         \u001b[0mself\u001b[0m\u001b[0;34m.\u001b[0m\u001b[0mbuffer\u001b[0m \u001b[0;34m=\u001b[0m \u001b[0mdata\u001b[0m\u001b[0;34m[\u001b[0m\u001b[0mconsumed\u001b[0m\u001b[0;34m:\u001b[0m\u001b[0;34m]\u001b[0m\u001b[0;34m\u001b[0m\u001b[0;34m\u001b[0m\u001b[0m\n",
      "\u001b[0;31mUnicodeDecodeError\u001b[0m: 'utf-8' codec can't decode byte 0xa9 in position 5809090: invalid start byte"
     ]
    }
   ],
   "source": [
    "lm = train_char_lm(\"linux_input.txt\", order=15)\n",
    "print(generate_text(lm, 15))"
   ]
  },
  {
   "cell_type": "code",
   "execution_count": 52,
   "metadata": {},
   "outputs": [
    {
     "name": "stdout",
     "output_type": "stream",
     "text": [
      "/*\n",
      " * linux/kernel/irq/spurious.c\n",
      " *\n",
      " * Copyright (C) 2004 Nadia Yvette Chambers\n",
      " */\n",
      "\n",
      "#include <linux/irq.h>\n",
      "#include <linux/mutex.h>\n",
      "#include <linux/capability.h>\n",
      "#include <linux/suspend.h>\n",
      "#include <linux/shm.h>\n",
      "\n",
      "#include <asm/uaccess.h>\n",
      "#include <linux/interrupt.h>\n",
      "#include \"kdb_private.h\"\n",
      "\n",
      "/*\n",
      " * Table of kdb_breakpoints\n",
      " */\n",
      "kdb_bp_t kdb_breakpoints[KDB_MAXBPT];\n",
      "\n",
      "static void kdb_setsinglestep(struct pt_regs *regs)\n",
      "{\n",
      "\tstruct swevent_htable *swhash = &per_cpu(swevent_htable, cpu);\n",
      "\n",
      "\tmutex_lock(&swhash->hlist_mutex);\n",
      "\tswhash->online = true;\n",
      "\tif (swhash->hlist_refcount)\n",
      "\t\tswevent_hlist_release(swhash);\n",
      "\n",
      "\tmutex_unlock(&show_mutex);\n",
      "\n",
      "\treturn 0;\n",
      "}\n",
      "\n",
      "/*\n",
      " * Unshare file descriptor table if it is being shared\n",
      " */\n",
      "static int unshare_fs(unsigned long unshare_flags, struct cred **new_cred)\n",
      "{\n",
      "\tstruct cred *cred = current_cred();\n",
      "\n",
      "\tretval = -EPERM;\n",
      "\tif (rgid != (gid_t) -1) {\n",
      "\t\tif (gid_eq(old->gid, kegid) ||\n",
      "\t\t    gid_eq(old->sgid, kegid) ||\n",
      "\t\t    gid_eq(old->sgid, kegid) ||\n",
      "\t\t    gid_eq(old->egid, \n"
     ]
    }
   ],
   "source": [
    "lm = train_char_lm(\"linux_input.txt\", order=20)\n",
    "print generate_text(lm, 20)"
   ]
  },
  {
   "cell_type": "code",
   "execution_count": 33,
   "metadata": {},
   "outputs": [
    {
     "ename": "KeyError",
     "evalue": "'~~~~~~~~~~~~~~~~~~~~'",
     "output_type": "error",
     "traceback": [
      "\u001b[0;31m---------------------------------------------------------------------------\u001b[0m",
      "\u001b[0;31mKeyError\u001b[0m                                  Traceback (most recent call last)",
      "\u001b[0;32m<ipython-input-33-63a69ca0121b>\u001b[0m in \u001b[0;36m<module>\u001b[0;34m\u001b[0m\n\u001b[0;32m----> 1\u001b[0;31m \u001b[0mprint\u001b[0m\u001b[0;34m(\u001b[0m\u001b[0mgenerate_text\u001b[0m\u001b[0;34m(\u001b[0m\u001b[0mlm\u001b[0m\u001b[0;34m,\u001b[0m \u001b[0;36m20\u001b[0m\u001b[0;34m)\u001b[0m\u001b[0;34m)\u001b[0m\u001b[0;34m\u001b[0m\u001b[0;34m\u001b[0m\u001b[0m\n\u001b[0m",
      "\u001b[0;32m<ipython-input-23-62c9c7690058>\u001b[0m in \u001b[0;36mgenerate_text\u001b[0;34m(lm, order, nletters)\u001b[0m\n\u001b[1;32m      3\u001b[0m     \u001b[0mout\u001b[0m \u001b[0;34m=\u001b[0m \u001b[0;34m[\u001b[0m\u001b[0;34m]\u001b[0m\u001b[0;34m\u001b[0m\u001b[0;34m\u001b[0m\u001b[0m\n\u001b[1;32m      4\u001b[0m     \u001b[0;32mfor\u001b[0m \u001b[0mi\u001b[0m \u001b[0;32min\u001b[0m \u001b[0mrange\u001b[0m\u001b[0;34m(\u001b[0m\u001b[0mnletters\u001b[0m\u001b[0;34m)\u001b[0m\u001b[0;34m:\u001b[0m\u001b[0;34m\u001b[0m\u001b[0;34m\u001b[0m\u001b[0m\n\u001b[0;32m----> 5\u001b[0;31m         \u001b[0mc\u001b[0m \u001b[0;34m=\u001b[0m \u001b[0mgenerate_letter\u001b[0m\u001b[0;34m(\u001b[0m\u001b[0mlm\u001b[0m\u001b[0;34m,\u001b[0m \u001b[0mhistory\u001b[0m\u001b[0;34m,\u001b[0m \u001b[0morder\u001b[0m\u001b[0;34m)\u001b[0m\u001b[0;34m\u001b[0m\u001b[0;34m\u001b[0m\u001b[0m\n\u001b[0m\u001b[1;32m      6\u001b[0m         \u001b[0mhistory\u001b[0m \u001b[0;34m=\u001b[0m \u001b[0mhistory\u001b[0m\u001b[0;34m[\u001b[0m\u001b[0;34m-\u001b[0m\u001b[0morder\u001b[0m\u001b[0;34m:\u001b[0m\u001b[0;34m]\u001b[0m \u001b[0;34m+\u001b[0m \u001b[0mc\u001b[0m\u001b[0;34m\u001b[0m\u001b[0;34m\u001b[0m\u001b[0m\n\u001b[1;32m      7\u001b[0m         \u001b[0mout\u001b[0m\u001b[0;34m.\u001b[0m\u001b[0mappend\u001b[0m\u001b[0;34m(\u001b[0m\u001b[0mc\u001b[0m\u001b[0;34m)\u001b[0m\u001b[0;34m\u001b[0m\u001b[0;34m\u001b[0m\u001b[0m\n",
      "\u001b[0;32m<ipython-input-19-c2409ff1bd67>\u001b[0m in \u001b[0;36mgenerate_letter\u001b[0;34m(lm, history, order)\u001b[0m\n\u001b[1;32m      3\u001b[0m \u001b[0;32mdef\u001b[0m \u001b[0mgenerate_letter\u001b[0m\u001b[0;34m(\u001b[0m\u001b[0mlm\u001b[0m\u001b[0;34m,\u001b[0m \u001b[0mhistory\u001b[0m\u001b[0;34m,\u001b[0m \u001b[0morder\u001b[0m\u001b[0;34m)\u001b[0m\u001b[0;34m:\u001b[0m\u001b[0;34m\u001b[0m\u001b[0;34m\u001b[0m\u001b[0m\n\u001b[1;32m      4\u001b[0m         \u001b[0mhistory\u001b[0m \u001b[0;34m=\u001b[0m \u001b[0mhistory\u001b[0m\u001b[0;34m[\u001b[0m\u001b[0;34m-\u001b[0m\u001b[0morder\u001b[0m\u001b[0;34m:\u001b[0m\u001b[0;34m]\u001b[0m\u001b[0;34m\u001b[0m\u001b[0;34m\u001b[0m\u001b[0m\n\u001b[0;32m----> 5\u001b[0;31m         \u001b[0mdist\u001b[0m \u001b[0;34m=\u001b[0m \u001b[0mlm\u001b[0m\u001b[0;34m[\u001b[0m\u001b[0mhistory\u001b[0m\u001b[0;34m]\u001b[0m\u001b[0;34m\u001b[0m\u001b[0;34m\u001b[0m\u001b[0m\n\u001b[0m\u001b[1;32m      6\u001b[0m         \u001b[0mx\u001b[0m \u001b[0;34m=\u001b[0m \u001b[0mrandom\u001b[0m\u001b[0;34m(\u001b[0m\u001b[0;34m)\u001b[0m\u001b[0;34m\u001b[0m\u001b[0;34m\u001b[0m\u001b[0m\n\u001b[1;32m      7\u001b[0m         \u001b[0;32mfor\u001b[0m \u001b[0mc\u001b[0m\u001b[0;34m,\u001b[0m\u001b[0mv\u001b[0m \u001b[0;32min\u001b[0m \u001b[0mdist\u001b[0m\u001b[0;34m:\u001b[0m\u001b[0;34m\u001b[0m\u001b[0;34m\u001b[0m\u001b[0m\n",
      "\u001b[0;31mKeyError\u001b[0m: '~~~~~~~~~~~~~~~~~~~~'"
     ]
    }
   ],
   "source": [
    "print(generate_text(lm, 20))"
   ]
  },
  {
   "cell_type": "code",
   "execution_count": 34,
   "metadata": {},
   "outputs": [
    {
     "ename": "KeyError",
     "evalue": "'~~~~~~~~~~~~~~~~~~~~'",
     "output_type": "error",
     "traceback": [
      "\u001b[0;31m---------------------------------------------------------------------------\u001b[0m",
      "\u001b[0;31mKeyError\u001b[0m                                  Traceback (most recent call last)",
      "\u001b[0;32m<ipython-input-34-a2c1ab892a4e>\u001b[0m in \u001b[0;36m<module>\u001b[0;34m\u001b[0m\n\u001b[0;32m----> 1\u001b[0;31m \u001b[0mprint\u001b[0m\u001b[0;34m(\u001b[0m\u001b[0mgenerate_text\u001b[0m\u001b[0;34m(\u001b[0m\u001b[0mlm\u001b[0m\u001b[0;34m,\u001b[0m \u001b[0;36m20\u001b[0m\u001b[0;34m,\u001b[0m \u001b[0mnletters\u001b[0m\u001b[0;34m=\u001b[0m\u001b[0;36m5000\u001b[0m\u001b[0;34m)\u001b[0m\u001b[0;34m)\u001b[0m\u001b[0;34m\u001b[0m\u001b[0;34m\u001b[0m\u001b[0m\n\u001b[0m",
      "\u001b[0;32m<ipython-input-23-62c9c7690058>\u001b[0m in \u001b[0;36mgenerate_text\u001b[0;34m(lm, order, nletters)\u001b[0m\n\u001b[1;32m      3\u001b[0m     \u001b[0mout\u001b[0m \u001b[0;34m=\u001b[0m \u001b[0;34m[\u001b[0m\u001b[0;34m]\u001b[0m\u001b[0;34m\u001b[0m\u001b[0;34m\u001b[0m\u001b[0m\n\u001b[1;32m      4\u001b[0m     \u001b[0;32mfor\u001b[0m \u001b[0mi\u001b[0m \u001b[0;32min\u001b[0m \u001b[0mrange\u001b[0m\u001b[0;34m(\u001b[0m\u001b[0mnletters\u001b[0m\u001b[0;34m)\u001b[0m\u001b[0;34m:\u001b[0m\u001b[0;34m\u001b[0m\u001b[0;34m\u001b[0m\u001b[0m\n\u001b[0;32m----> 5\u001b[0;31m         \u001b[0mc\u001b[0m \u001b[0;34m=\u001b[0m \u001b[0mgenerate_letter\u001b[0m\u001b[0;34m(\u001b[0m\u001b[0mlm\u001b[0m\u001b[0;34m,\u001b[0m \u001b[0mhistory\u001b[0m\u001b[0;34m,\u001b[0m \u001b[0morder\u001b[0m\u001b[0;34m)\u001b[0m\u001b[0;34m\u001b[0m\u001b[0;34m\u001b[0m\u001b[0m\n\u001b[0m\u001b[1;32m      6\u001b[0m         \u001b[0mhistory\u001b[0m \u001b[0;34m=\u001b[0m \u001b[0mhistory\u001b[0m\u001b[0;34m[\u001b[0m\u001b[0;34m-\u001b[0m\u001b[0morder\u001b[0m\u001b[0;34m:\u001b[0m\u001b[0;34m]\u001b[0m \u001b[0;34m+\u001b[0m \u001b[0mc\u001b[0m\u001b[0;34m\u001b[0m\u001b[0;34m\u001b[0m\u001b[0m\n\u001b[1;32m      7\u001b[0m         \u001b[0mout\u001b[0m\u001b[0;34m.\u001b[0m\u001b[0mappend\u001b[0m\u001b[0;34m(\u001b[0m\u001b[0mc\u001b[0m\u001b[0;34m)\u001b[0m\u001b[0;34m\u001b[0m\u001b[0;34m\u001b[0m\u001b[0m\n",
      "\u001b[0;32m<ipython-input-19-c2409ff1bd67>\u001b[0m in \u001b[0;36mgenerate_letter\u001b[0;34m(lm, history, order)\u001b[0m\n\u001b[1;32m      3\u001b[0m \u001b[0;32mdef\u001b[0m \u001b[0mgenerate_letter\u001b[0m\u001b[0;34m(\u001b[0m\u001b[0mlm\u001b[0m\u001b[0;34m,\u001b[0m \u001b[0mhistory\u001b[0m\u001b[0;34m,\u001b[0m \u001b[0morder\u001b[0m\u001b[0;34m)\u001b[0m\u001b[0;34m:\u001b[0m\u001b[0;34m\u001b[0m\u001b[0;34m\u001b[0m\u001b[0m\n\u001b[1;32m      4\u001b[0m         \u001b[0mhistory\u001b[0m \u001b[0;34m=\u001b[0m \u001b[0mhistory\u001b[0m\u001b[0;34m[\u001b[0m\u001b[0;34m-\u001b[0m\u001b[0morder\u001b[0m\u001b[0;34m:\u001b[0m\u001b[0;34m]\u001b[0m\u001b[0;34m\u001b[0m\u001b[0;34m\u001b[0m\u001b[0m\n\u001b[0;32m----> 5\u001b[0;31m         \u001b[0mdist\u001b[0m \u001b[0;34m=\u001b[0m \u001b[0mlm\u001b[0m\u001b[0;34m[\u001b[0m\u001b[0mhistory\u001b[0m\u001b[0;34m]\u001b[0m\u001b[0;34m\u001b[0m\u001b[0;34m\u001b[0m\u001b[0m\n\u001b[0m\u001b[1;32m      6\u001b[0m         \u001b[0mx\u001b[0m \u001b[0;34m=\u001b[0m \u001b[0mrandom\u001b[0m\u001b[0;34m(\u001b[0m\u001b[0;34m)\u001b[0m\u001b[0;34m\u001b[0m\u001b[0;34m\u001b[0m\u001b[0m\n\u001b[1;32m      7\u001b[0m         \u001b[0;32mfor\u001b[0m \u001b[0mc\u001b[0m\u001b[0;34m,\u001b[0m\u001b[0mv\u001b[0m \u001b[0;32min\u001b[0m \u001b[0mdist\u001b[0m\u001b[0;34m:\u001b[0m\u001b[0;34m\u001b[0m\u001b[0;34m\u001b[0m\u001b[0m\n",
      "\u001b[0;31mKeyError\u001b[0m: '~~~~~~~~~~~~~~~~~~~~'"
     ]
    }
   ],
   "source": [
    "print(generate_text(lm, 20, nletters=5000))"
   ]
  },
  {
   "cell_type": "code",
   "execution_count": null,
   "metadata": {},
   "outputs": [],
   "source": []
  },
  {
   "cell_type": "markdown",
   "metadata": {},
   "source": [
    "Order 10 is pretty much junk. In order 15 things sort-of make sense, but we jump abruptly between the \n",
    "and by order 20 we are doing quite nicely -- but are far from keeping good indentation and brackets. \n",
    "\n",
    "How could we? we do not have the memory, and these things are not modeled at all. While we could quite easily enrich our model to support also keeping track of brackets and indentation (by adding information such as \"have I seen ( but not )\" to the conditioning history), this requires extra work, non-trivial human reasoning, and will make the model significantly more complex. \n",
    "\n",
    "The LSTM, on the other hand, seemed to have just learn it on its own. And that's impressive."
   ]
  },
  {
   "cell_type": "code",
   "execution_count": null,
   "metadata": {
    "collapsed": true
   },
   "outputs": [],
   "source": []
  }
 ],
 "metadata": {
  "@webio": {
   "lastCommId": null,
   "lastKernelId": null
  },
  "kernelspec": {
   "display_name": "Python 3",
   "language": "python",
   "name": "python3"
  },
  "language_info": {
   "codemirror_mode": {
    "name": "ipython",
    "version": 3
   },
   "file_extension": ".py",
   "mimetype": "text/x-python",
   "name": "python",
   "nbconvert_exporter": "python",
   "pygments_lexer": "ipython3",
   "version": "3.6.7"
  }
 },
 "nbformat": 4,
 "nbformat_minor": 1
}
